{
 "cells": [
  {
   "cell_type": "markdown",
   "id": "118f2976-fae9-481d-b8bf-6d35927f685a",
   "metadata": {},
   "source": [
    "### `auth_with_creds()`\n",
    "This authentication method accepts a username and password and establishes an authentication session with EDL and ASF.\n",
    "This is the same set of credentials you use to log into https://urs.earthdata.nasa.gov/home.\n",
    "\n",
    "**NOTE:** Even if you have valid Earthdata credentials, you still need to **verify your account** and **specify your User Type/Study Area/Affliation** to be able to download ALOS data. If you are having trouble authenticating or download data, this might be part of the problem. If you have not set these parameters, go to https://urs.earthdata.nasa.gov/profile to do so."
   ]
  },
  {
   "cell_type": "code",
   "execution_count": 12,
   "id": "f4ea3b83-58cb-4baa-beb1-5ae272466ef1",
   "metadata": {
    "tags": []
   },
   "outputs": [
    {
     "name": "stdin",
     "output_type": "stream",
     "text": [
      "Username: max.zhan\n",
      "Password: ········\n"
     ]
    },
    {
     "name": "stdout",
     "output_type": "stream",
     "text": [
      "Success!\n"
     ]
    }
   ],
   "source": [
    "import asf_search as asf\n",
    "import getpass\n",
    "\n",
    "session = asf.ASFSession()\n",
    "username = input('Username:')\n",
    "password = getpass.getpass('Password:')\n",
    "\n",
    "try:\n",
    "    user_pass_session = asf.ASFSession().auth_with_creds(username, password)\n",
    "except asf.ASFAuthenticationError as e:\n",
    "    print(f'Auth failed: {e}')\n",
    "else:\n",
    "    print('Success!')"
   ]
  },
  {
   "cell_type": "markdown",
   "id": "0bbfdce0-2a90-4dc0-9ca4-a8096be4f3bd",
   "metadata": {},
   "source": [
    "***\n",
    "## Downloading\n",
    "[View this search in Vertex](https://search.asf.alaska.edu/#/?dataset=UAVSAR&productTypes=METADATA&resultsLoaded=true&zoom=8.090&center=-90.488,28.359&polygon=POLYGON((-91.97%2028.78,-88.85%2028.78,-88.85%2030.31,-91.97%2030.31,-91.97%2028.78)))\n",
    "  \n",
    "With authentication handled, we can now begin downloading products. First, we will need some search results to work with:"
   ]
  },
  {
   "cell_type": "code",
   "execution_count": 7,
   "id": "a69116c4-7783-4648-bdbe-ee9a3966b059",
   "metadata": {
    "tags": []
   },
   "outputs": [
    {
     "name": "stdout",
     "output_type": "stream",
     "text": [
      "POLYGON ((-121.174 35.7869, -120.549 35.7869, -120.549 36.6517, -121.174 36.6517, -121.174 35.7869))\n",
      "9 results found\n",
      "Found IDs:\n",
      "['ALPSRP274410710-L1.0', 'ALPSRP267700710-L1.0', 'ALPSRP220730710-L1.0', 'ALPSRP207310710-L1.0', 'ALPSRP167050710-L1.0', 'ALPSRP106660710-L1.0', 'ALPSRP099950710-L1.0', 'ALPSRP093240710-L1.0', 'ALPSRP059690710-L1.0']\n",
      "==============================\n",
      "Found URLs:\n",
      "['https://datapool.asf.alaska.edu/L1.0/A3/ALPSRP274410710-L1.0.zip', 'https://datapool.asf.alaska.edu/L1.0/A3/ALPSRP267700710-L1.0.zip', 'https://datapool.asf.alaska.edu/L1.0/A3/ALPSRP220730710-L1.0.zip', 'https://datapool.asf.alaska.edu/L1.0/A3/ALPSRP207310710-L1.0.zip', 'https://datapool.asf.alaska.edu/L1.0/A3/ALPSRP167050710-L1.0.zip', 'https://datapool.asf.alaska.edu/L1.0/A3/ALPSRP106660710-L1.0.zip', 'https://datapool.asf.alaska.edu/L1.0/A3/ALPSRP099950710-L1.0.zip', 'https://datapool.asf.alaska.edu/L1.0/A3/ALPSRP093240710-L1.0.zip', 'https://datapool.asf.alaska.edu/L1.0/A3/ALPSRP059690710-L1.0.zip']\n",
      "==============================\n"
     ]
    }
   ],
   "source": [
    "import shapely\n",
    "\n",
    "# Defines an overlapping region which will be converted to a shapely Polygon\n",
    "coordinates = [[\n",
    "    [-121.174, 35.7869],\n",
    "    [-120.549, 35.7869],\n",
    "    [-120.549, 36.6517],\n",
    "    [-121.174, 36.6517],\n",
    "    [-121.174, 35.7869]\n",
    "]]\n",
    "\n",
    "# The start and end times to be queried\n",
    "start_time = '2006-01-01T00:00:00Z'\n",
    "end_time = '2011-12-01T00:00:00Z'\n",
    "\n",
    "# Additional options to query\n",
    "frame = 710\n",
    "relativeOrbit = 220\n",
    "processingLevel = asf.PRODUCT_TYPE.L1_0\n",
    "maxResults = None\n",
    "\n",
    "\n",
    "# Process the above arguments to make a query to ASF search, using the login credentials from the previous cell\n",
    "coord_polygon = shapely.Polygon(coordinates[0])\n",
    "aoi = str(coord_polygon)\n",
    "print(coord_polygon)\n",
    "opts = {\n",
    "    'platform': asf.PLATFORM.ALOS,\n",
    "    'intersectsWith': aoi,\n",
    "    'start': start_time,\n",
    "    'end': end_time,\n",
    "    # Added options\n",
    "    'frame': frame,\n",
    "    'relativeOrbit': relativeOrbit,\n",
    "    # The only usable polarization with INSAR seems to be HH, HH_HV crashes the script (might be a bug with ISCE3)\n",
    "    'polarization': [asf.POLARIZATION.HH],#, asf.POLARIZATION.HH_HV],\n",
    "    'processingLevel': processingLevel,\n",
    "    'maxResults': maxResults,\n",
    "}\n",
    "\n",
    "# The results of the search as a large dictionary, or the IDs/URLs as a distinct list\n",
    "results = asf.geo_search(**opts)\n",
    "asf_ids = [x.properties['fileID'] for x in results]\n",
    "asf_urls = [x.properties['url'] for x in results]\n",
    "\n",
    "print(f'{len(results)} results found')\n",
    "print(f'Found IDs:\\n{asf_ids}\\n==============================')\n",
    "print(f'Found URLs:\\n{asf_urls}\\n==============================')"
   ]
  },
  {
   "cell_type": "markdown",
   "id": "6c4900f9-e610-4136-8c90-1fbdaee93bdf",
   "metadata": {},
   "source": [
    "***\n",
    "## Downloading Products\n",
    "To download a single `ASFProduct`, simply call its `download()` method, passing in a previously-authenticated session, a path, and optionally a filename. If no filename is provided, the default is to use the filename of the product iself, as described in `properties['fileName']`.\n",
    "\n",
    "The cell below downloads all products found within the `results` list, but the list can be iterated or reduced to download a specific subset of ALOS-1 data."
   ]
  },
  {
   "cell_type": "code",
   "execution_count": 11,
   "id": "4afbac1b-df3d-4b8a-871d-df1f80b5f333",
   "metadata": {
    "tags": []
   },
   "outputs": [
    {
     "name": "stderr",
     "output_type": "stream",
     "text": [
      "/home/jovyan/.local/envs/isce3_src/lib/python3.9/site-packages/asf_search/download/download.py:65: UserWarning: File already exists, skipping download: /home/jovyan/alos-to-insar/data/ALPSRP274410710-L1.0.zip\n",
      "  warnings.warn(f'File already exists, skipping download: {os.path.join(path, filename)}')\n"
     ]
    },
    {
     "name": "stdout",
     "output_type": "stream",
     "text": [
      "['/home/jovyan/alos-to-insar/data/.ipynb_checkpoints', '/home/jovyan/alos-to-insar/data/ALPSRP274410710-L1.0.zip']\n"
     ]
    }
   ],
   "source": [
    "import os\n",
    "\n",
    "# The maximum number of files to download\n",
    "max_downloads = 1#math.inf\n",
    "# The folder to download the ALOS data to\n",
    "download_path = os.path.abspath('./data')\n",
    "# The number of parallel processes to use to download\n",
    "processes = 5\n",
    "\n",
    "# This downloads the searched ALOS data according to the parameters above\n",
    "os.makedirs(download_path, exist_ok=True)\n",
    "results[:min(len(results), max_downloads)].download(path=download_path, session=user_pass_session, processes=processes)\n",
    "files = [os.path.join(download_path, x) for x in os.listdir(download_path)]\n",
    "print(files)"
   ]
  },
  {
   "cell_type": "code",
   "execution_count": null,
   "id": "0765a750-1f9b-46e5-b34d-c2462985dbc7",
   "metadata": {},
   "outputs": [],
   "source": []
  }
 ],
 "metadata": {
  "celltoolbar": "Raw Cell Format",
  "kernelspec": {
   "display_name": "isce3_src",
   "language": "python",
   "name": "isce3_src"
  },
  "language_info": {
   "codemirror_mode": {
    "name": "ipython",
    "version": 3
   },
   "file_extension": ".py",
   "mimetype": "text/x-python",
   "name": "python",
   "nbconvert_exporter": "python",
   "pygments_lexer": "ipython3",
   "version": "3.9.17"
  },
  "toc-autonumbering": false,
  "toc-showtags": false
 },
 "nbformat": 4,
 "nbformat_minor": 5
}
