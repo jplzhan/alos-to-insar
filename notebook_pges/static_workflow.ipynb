{
 "cells": [
  {
   "cell_type": "markdown",
   "id": "8d8d3d43-83ea-4c5f-9a47-e427185cdafc",
   "metadata": {},
   "source": [
    "# STATIC LAYERS\n",
    "- This notebook static products by running ISCE3's `static.py` by taking a region as input.\n",
    "- Uses the `isce3_src` kernel (created using [Create_Environments.ipynb](https://github.com/isce-framework/sds-ondemand/blob/main/environments/Create_Environments.ipynb)).\n",
    "- Can be ran locally (preferably on a GPU instance), or as a PCM job.\n",
    "\n",
    "# Parameters\n",
    "This cell is marked `parameters`, indicating the variables within can substituted when running this notebook via `papermill`.\n",
    "- `dem_vrt_s3_url`: S3 url to the DEM file to download.\n",
    "- `watermask_vrt_s3_url`: S3 url to the DEM file to download.\n",
    "- `gpu_enabled`: `1` to run using the GPU, `0` to use CPU instead. **Keep in mind that while disabling the GPU processing allows this notebook to be ran on an instance without a GPU, that does not guarantee the instance this notebook is running on is a non-GPU instance.** To run on a non-GPU instance on PCM, submit the job to a CPU-only queue.\n",
    "- `config_yml`: The runconfig passed to `static.py`.\n",
    "\n",
    "### Upload parameters (PCM only)\n",
    "- `timestamp`: A time-string of the format `%Y%m%dT%H%M%S` indicating the time at which the job was submitted. This helps `pcm.py` find where the results of this job will be submitted when this notebook is ran as a PCM job."
   ]
  },
  {
   "cell_type": "code",
   "execution_count": null,
   "id": "a6d3d5ea-a001-43c4-9572-7e98b1048ae2",
   "metadata": {
    "editable": true,
    "slideshow": {
     "slide_type": ""
    },
    "tags": [
     "parameters"
    ]
   },
   "outputs": [],
   "source": [
    "dem_vrt_s3_url = 's3://nisar-st-data-ondemand/zhan/watermask.vrt'\n",
    "watermask_vrt_s3_url = 's3://nisar-st-data-ondemand/zhan/dem.vrt'\n",
    "orbit_xml = '/home/jovyan/alos-to-insar/data/track34_frame72_west_himalayas/NISAR_ANC_L_PR_FOE_20250424T071519_20230105T103711_20230105T163746.xml'\n",
    "pointing_xml = '/home/jovyan/alos-to-insar/data/track34_frame72_west_himalayas/NISAR_ANC_L_PR_FRP_20250424T071519_20230105T103711_20230105T163746.xml'\n",
    "config_yml = '/home/jovyan/alos-to-insar/data/track34_frame72_west_himalayas/static.yml' # string\n",
    "timestamp = '20240131T0123456' # string\n",
    "\n",
    "# hysds specifications\n",
    "_time_limit = 86400\n",
    "_soft_time_limit = 86400\n",
    "_disk_usage = '15GB'\n",
    "_submission_type = 'iteration'\n",
    "_label = 'STATIC LAYER PGE'"
   ]
  },
  {
   "cell_type": "code",
   "execution_count": null,
   "id": "6c828094-9006-48fa-84ba-ab7738113cd6",
   "metadata": {
    "editable": true,
    "slideshow": {
     "slide_type": ""
    },
    "tags": []
   },
   "outputs": [],
   "source": [
    "# TODO - REMOVE THIS!!!!!!!!!!!!!\n",
    "# with open(orbit_xml, 'r') as fp:\n",
    "#     orbit_xml = fp.read()\n",
    "\n",
    "# with open(pointing_xml, 'r') as fp:\n",
    "#     pointing_xml = fp.read()\n",
    "\n",
    "# with open(config_yml, 'r') as fp:\n",
    "#     config_yml = fp.read()"
   ]
  },
  {
   "cell_type": "code",
   "execution_count": null,
   "id": "c5d7c7cc-577e-4855-bc86-ee0b7bc57e5f",
   "metadata": {
    "editable": true,
    "slideshow": {
     "slide_type": ""
    },
    "tags": []
   },
   "outputs": [],
   "source": [
    "import os\n",
    "import yaml\n",
    "import aws_uploader\n",
    "\n",
    "WORKING_DIR = os.getcwd()\n",
    "HOME_DIR = os.environ['HOME']\n",
    "NOTEBOOK_PGE_DIR = os.environ.get('NOTEBOOK_PGE_DIR', WORKING_DIR)\n",
    "ISCE3_BUILD_DIR = os.environ.get('ISCE3_BUILD_DIR', f'{HOME_DIR}/isce3/build')\n",
    "\n",
    "DOWNLOAD_DIR = os.path.join(WORKING_DIR, 'downloads')\n",
    "OUTPUT_DIR = os.path.join(WORKING_DIR, 'output')\n",
    "PRODUCT_DIR = os.path.join(WORKING_DIR, 'product_path')\n",
    "\n",
    "os.makedirs(DOWNLOAD_DIR, exist_ok=True)\n",
    "os.makedirs(OUTPUT_DIR, exist_ok=True)\n",
    "os.makedirs(PRODUCT_DIR, exist_ok=True)\n",
    "\n",
    "if config_yml == '':\n",
    "    with open(os.path.join(ISCE3_BUILD_DIR, 'share', 'nisar', 'defaults', 'static.yaml'), 'r') as f:\n",
    "        CONFIG_YML = yaml.safe_load(f)\n",
    "else:\n",
    "    print('Using custom static.py run config...')\n",
    "    CONFIG_YML = yaml.safe_load(config_yml)\n",
    "\n",
    "yml_path = os.path.join(OUTPUT_DIR, 'static_final.yaml')\n",
    "\n",
    "with open(os.path.join(OUTPUT_DIR, 'orbit_final.xml'), 'w', encoding='utf-8') as fp:\n",
    "    fp.write(orbit_xml)\n",
    "\n",
    "with open(os.path.join(OUTPUT_DIR, 'pointing_final.xml'), 'w', encoding='utf-8') as fp:\n",
    "    fp.write(pointing_xml)\n",
    "\n",
    "print(WORKING_DIR)"
   ]
  },
  {
   "cell_type": "code",
   "execution_count": null,
   "id": "750bcde4-8618-424a-8904-220b847b0d88",
   "metadata": {
    "editable": true,
    "slideshow": {
     "slide_type": ""
    },
    "tags": []
   },
   "outputs": [],
   "source": [
    "import isce3_config\n",
    "import yaml\n",
    "\n",
    "# Grab the bounding box for the DEM and water mask\n",
    "bbox = isce3_config.BoundingBox.load_from_geogrid(\n",
    "    CONFIG_YML['runconfig']['groups']['processing']['geo_grid'])\n",
    "\n",
    "print(bbox)\n",
    "\n",
    "\n",
    "# Download the DEM locally\n",
    "if isinstance(dem_vrt_s3_url, str) and dem_vrt_s3_url != '':\n",
    "    dem_vrt_f = isce3_config.download_dem(dem_vrt_s3_url, DOWNLOAD_DIR)\n",
    "else:\n",
    "    print(f'DEM input ({dem_vrt_s3_url}) was not specified, downloading DEM via stage_dem.py instead.')\n",
    "\n",
    "    dem_vrt_f = os.path.join(PRODUCT_DIR, 'dem.vrt')\n",
    "    dem_f = os.path.join(PRODUCT_DIR, 'dem_0.tiff')\n",
    "    \n",
    "    # Stage the DEM using the combined bounds for dem_tiff_f\n",
    "    _cmd_stage_dem = f'mamba run -n isce3_src --live-stream python {ISCE3_BUILD_DIR}/packages/nisar/workflows/stage_dem.py -b {bbox.west} {bbox.south} {bbox.east} {bbox.north} -o {dem_vrt_f}'\n",
    "    print(f'Executing:\\n    {_cmd_stage_dem}')\n",
    "    !{_cmd_stage_dem}\n",
    "\n",
    "\n",
    "# Download the Watermask locally\n",
    "if isinstance(watermask_vrt_s3_url, str) and watermask_vrt_s3_url != '':\n",
    "    watermask_vrt_f = isce3_config.download_dem(watermask_vrt_s3_url, DOWNLOAD_DIR)\n",
    "else:\n",
    "    watermask_vrt_f = os.path.join(PRODUCT_DIR, 'WATERMASK.vrt')\n",
    "    watermask_f = os.path.join(PRODUCT_DIR, 'WATERMASK_0.tiff')\n",
    "    \n",
    "    # Stage the DEM using the combined bounds for watermask_tiff_f\n",
    "    _cmd_stage_watermask = f'mamba run -n isce3_src --live-stream python {ISCE3_BUILD_DIR}/packages/nisar/workflows/stage_watermask.py -b {bbox.west} {bbox.south} {bbox.east} {bbox.north} -o {watermask_vrt_f}'\n",
    "    print(f'Executing:\\n    {_cmd_stage_watermask}')\n",
    "    !{_cmd_stage_watermask}\n",
    "\n",
    "\n",
    "isce3_config.write_static_config(CONFIG_YML, dem_vrt_f, watermask_vrt_f, yml_path)\n",
    "\n",
    "!mamba run -n isce3_src --live-stream python -m nisar.workflows.static {yml_path}"
   ]
  },
  {
   "cell_type": "code",
   "execution_count": 5,
   "id": "3aae8988-ce7f-42f2-8107-102cee72534b",
   "metadata": {
    "editable": true,
    "slideshow": {
     "slide_type": ""
    },
    "tags": []
   },
   "outputs": [
    {
     "ename": "NameError",
     "evalue": "name 'output_f' is not defined",
     "output_type": "error",
     "traceback": [
      "\u001b[0;31m---------------------------------------------------------------------------\u001b[0m",
      "\u001b[0;31mNameError\u001b[0m                                 Traceback (most recent call last)",
      "Cell \u001b[0;32mIn[5], line 27\u001b[0m\n\u001b[1;32m     23\u001b[0m \u001b[38;5;66;03m#!mv {output_f} {auto_output_dir}\u001b[39;00m\n\u001b[1;32m     24\u001b[0m \n\u001b[1;32m     25\u001b[0m \u001b[38;5;66;03m# Move the new path variables to avoid confusion\u001b[39;00m\n\u001b[1;32m     26\u001b[0m yml_path \u001b[38;5;241m=\u001b[39m os\u001b[38;5;241m.\u001b[39mpath\u001b[38;5;241m.\u001b[39mjoin(auto_output_dir, os\u001b[38;5;241m.\u001b[39mpath\u001b[38;5;241m.\u001b[39mbasename(yml_path))\n\u001b[0;32m---> 27\u001b[0m output_f \u001b[38;5;241m=\u001b[39m os\u001b[38;5;241m.\u001b[39mpath\u001b[38;5;241m.\u001b[39mjoin(auto_output_dir, os\u001b[38;5;241m.\u001b[39mpath\u001b[38;5;241m.\u001b[39mbasename(\u001b[43moutput_f\u001b[49m))\n\u001b[1;32m     29\u001b[0m \u001b[38;5;66;03m# Create metadata files for the automatic stage-out directory\u001b[39;00m\n\u001b[1;32m     30\u001b[0m \u001b[38;5;28;01mwith\u001b[39;00m \u001b[38;5;28mopen\u001b[39m(os\u001b[38;5;241m.\u001b[39mpath\u001b[38;5;241m.\u001b[39mjoin(auto_output_dir, \u001b[38;5;124mf\u001b[39m\u001b[38;5;124m'\u001b[39m\u001b[38;5;132;01m{\u001b[39;00mregex_name\u001b[38;5;132;01m}\u001b[39;00m\u001b[38;5;124m.met.json\u001b[39m\u001b[38;5;124m'\u001b[39m), \u001b[38;5;124m'\u001b[39m\u001b[38;5;124mw\u001b[39m\u001b[38;5;124m'\u001b[39m, encoding\u001b[38;5;241m=\u001b[39m\u001b[38;5;124m'\u001b[39m\u001b[38;5;124mutf-8\u001b[39m\u001b[38;5;124m'\u001b[39m) \u001b[38;5;28;01mas\u001b[39;00m f:\n",
      "\u001b[0;31mNameError\u001b[0m: name 'output_f' is not defined"
     ]
    }
   ],
   "source": [
    "import h5py\n",
    "import json\n",
    "\n",
    "# Grab some appropriate values for PCM to automatically stage out\n",
    "# try:\n",
    "#     h5_file = h5py.File(output_f, 'r')\n",
    "#     polarization = h5_file['science']['LSAR']['RSLC']['swaths']['frequencyA']['listOfPolarizations'][0].decode('utf-8')\n",
    "# except Exception as e:\n",
    "#     print(f'Exception occured: {e}')\n",
    "#     print(f'As the polarization was unable to be automatically detected, the polarization will be listed as \\'HH\\' by default.')\n",
    "polarization = 'HH'\n",
    "regex_name = isce3_config.RSLC_FORMAT.format(\n",
    "    polarization=f'{polarization}00',\n",
    "    timestamp=timestamp)\n",
    "auto_output_dir = os.path.join(WORKING_DIR, regex_name)\n",
    "\n",
    "# Create the automatic stage-out directory\n",
    "!mkdir -p {auto_output_dir}\n",
    "!cp {WORKING_DIR}/*-output.ipynb {auto_output_dir}\n",
    "!cp {WORKING_DIR}/*.txt {auto_output_dir}\n",
    "!cp {WORKING_DIR}/*.json {auto_output_dir}\n",
    "!mv {yml_path} {auto_output_dir}\n",
    "#!mv {output_f} {auto_output_dir}\n",
    "\n",
    "# Move the new path variables to avoid confusion\n",
    "yml_path = os.path.join(auto_output_dir, os.path.basename(yml_path))\n",
    "output_f = os.path.join(auto_output_dir, os.path.basename(output_f))\n",
    "\n",
    "# Create metadata files for the automatic stage-out directory\n",
    "with open(os.path.join(auto_output_dir, f'{regex_name}.met.json'), 'w', encoding='utf-8') as f:\n",
    "    content = {\n",
    "        'polarization': polarization,\n",
    "    }\n",
    "    f.write(json.dumps(content))\n",
    "with open(os.path.join(auto_output_dir, f'{regex_name}.dataset.json'), 'w', encoding='utf-8') as f:\n",
    "    content = {\n",
    "         'version': 'v1.0',\n",
    "         'label': 'This is purely an EXAMPLE metadata file, the values in this file are not representative of this product.',\n",
    "         'location': {\n",
    "           'type': 'polygon',\n",
    "           'coordinates': [\n",
    "             [\n",
    "                [-122.9059682940358,40.47090915967475],\n",
    "                [-121.6679748715316,37.84406528996276],\n",
    "                [-120.7310161872557,38.28728069813177],\n",
    "                [-121.7043611684245,39.94137004454238],\n",
    "                [-121.9536916840953,40.67097860759095],\n",
    "                [-122.3100379696548,40.7267890636145],\n",
    "                [-122.7640648263371,40.5457010812299],\n",
    "                [-122.9059682940358,40.47090915967475]\n",
    "              ]\n",
    "            ]\n",
    "        },\n",
    "        'starttime': '2017-01-01T00:00:00',\n",
    "        'endtime': '2017-01-01T00:05:00',\n",
    "    }\n",
    "    f.write(json.dumps(content))"
   ]
  },
  {
   "cell_type": "code",
   "execution_count": null,
   "id": "e7e5a74e-5724-45e0-a06d-1da462bb9fbe",
   "metadata": {},
   "outputs": [],
   "source": []
  }
 ],
 "metadata": {
  "kernelspec": {
   "display_name": "isce3_src",
   "language": "python",
   "name": "isce3_src"
  },
  "language_info": {
   "codemirror_mode": {
    "name": "ipython",
    "version": 3
   },
   "file_extension": ".py",
   "mimetype": "text/x-python",
   "name": "python",
   "nbconvert_exporter": "python",
   "pygments_lexer": "ipython3",
   "version": "3.12.9"
  }
 },
 "nbformat": 4,
 "nbformat_minor": 5
}
