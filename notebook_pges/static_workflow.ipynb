{
 "cells": [
  {
   "cell_type": "code",
   "execution_count": null,
   "id": "a6d3d5ea-a001-43c4-9572-7e98b1048ae2",
   "metadata": {
    "editable": true,
    "slideshow": {
     "slide_type": ""
    },
    "tags": [
     "parameters"
    ]
   },
   "outputs": [],
   "source": [
    "data_link = 's3://nisar-st-data-ondemand/ALOS-1-data/L0B/ALPSRP267700710-L0B.h5' # string\n",
    "gpu_enabled = 1 # boolean\n",
    "config_yml = '' # string\n",
    "timestamp = '20240131T0123456' # string\n",
    "\n",
    "# hysds specifications\n",
    "_time_limit = 86400\n",
    "_soft_time_limit = 86400\n",
    "_disk_usage = '10GB'\n",
    "_submission_type = 'iteration'\n",
    "_label = 'STATIC LAYER PGE'"
   ]
  },
  {
   "cell_type": "code",
   "execution_count": null,
   "id": "6c828094-9006-48fa-84ba-ab7738113cd6",
   "metadata": {
    "editable": true,
    "slideshow": {
     "slide_type": ""
    },
    "tags": []
   },
   "outputs": [],
   "source": [
    "# Convert boolean parameters because they must be specified as strings\n",
    "try:\n",
    "    if not isinstance(gpu_enabled, bool):\n",
    "        gpu_enabled = int(gpu_enabled) > 0\n",
    "except ValueError:\n",
    "    if instance(gpu_enabled, str):\n",
    "        gpu_enabled = gpu_enabled.lower() == 'true'\n",
    "    else:\n",
    "        gpu_enabled = False\n",
    "print(f'{gpu_enabled=}')"
   ]
  },
  {
   "cell_type": "code",
   "execution_count": null,
   "id": "c5d7c7cc-577e-4855-bc86-ee0b7bc57e5f",
   "metadata": {
    "editable": true,
    "slideshow": {
     "slide_type": ""
    },
    "tags": []
   },
   "outputs": [],
   "source": [
    "import os\n",
    "import yaml\n",
    "import aws_uploader\n",
    "\n",
    "WORKING_DIR = os.getcwd()\n",
    "HOME_DIR = os.environ['HOME']\n",
    "NOTEBOOK_PGE_DIR = os.environ.get('NOTEBOOK_PGE_DIR', WORKING_DIR)\n",
    "ISCE3_BUILD_DIR = os.environ.get('ISCE3_BUILD_DIR', f'{HOME_DIR}/isce3/build')\n",
    "\n",
    "DOWNLOAD_DIR = os.path.join(WORKING_DIR, 'downloads')\n",
    "OUTPUT_DIR = os.path.join(WORKING_DIR, 'output')\n",
    "PRODUCT_DIR = os.path.join(WORKING_DIR, 'product_path')\n",
    "\n",
    "os.makedirs(DOWNLOAD_DIR, exist_ok=True)\n",
    "os.makedirs(EXTRACT_DIR, exist_ok=True)\n",
    "os.makedirs(OUTPUT_DIR, exist_ok=True)\n",
    "os.makedirs(PRODUCT_DIR, exist_ok=True)\n",
    "\n",
    "if config_yml == '':\n",
    "    with open(os.path.join(ISCE3_BUILD_DIR, 'share', 'nisar', 'defaults', 'static.yaml'), 'r') as f:\n",
    "        CONFIG_YML = yaml.safe_load(f)\n",
    "else:\n",
    "    print('Using custom static.py run config...')\n",
    "    CONFIG_YML = yaml.safe_load(config_yml)\n",
    "\n",
    "yml_path = os.path.join(OUTPUT_DIR, 'static_final.yaml')\n",
    "\n",
    "print(WORKING_DIR)"
   ]
  },
  {
   "cell_type": "code",
   "execution_count": null,
   "id": "750bcde4-8618-424a-8904-220b847b0d88",
   "metadata": {
    "editable": true,
    "slideshow": {
     "slide_type": ""
    },
    "tags": []
   },
   "outputs": [],
   "source": [
    "import isce3_config\n",
    "\n",
    "isce3_config.write_static_config(CONFIG_YML, yml_path)\n",
    "\n",
    "!python -m nisar.workflows.static ${yml_path}"
   ]
  },
  {
   "cell_type": "code",
   "execution_count": null,
   "id": "3aae8988-ce7f-42f2-8107-102cee72534b",
   "metadata": {
    "editable": true,
    "slideshow": {
     "slide_type": ""
    },
    "tags": []
   },
   "outputs": [],
   "source": [
    "import h5py\n",
    "import json\n",
    "\n",
    "# Grab some appropriate values for PCM to automatically stage out\n",
    "# try:\n",
    "#     h5_file = h5py.File(output_f, 'r')\n",
    "#     polarization = h5_file['science']['LSAR']['RSLC']['swaths']['frequencyA']['listOfPolarizations'][0].decode('utf-8')\n",
    "# except Exception as e:\n",
    "#     print(f'Exception occured: {e}')\n",
    "#     print(f'As the polarization was unable to be automatically detected, the polarization will be listed as \\'HH\\' by default.')\n",
    "polarization = 'HH'\n",
    "regex_name = isce3_config.RSLC_FORMAT.format(\n",
    "    polarization=f'{polarization}00',\n",
    "    timestamp=timestamp)\n",
    "auto_output_dir = os.path.join(WORKING_DIR, regex_name)\n",
    "\n",
    "# Create the automatic stage-out directory\n",
    "!mkdir -p {auto_output_dir}\n",
    "!cp {WORKING_DIR}/*-output.ipynb {auto_output_dir}\n",
    "!cp {WORKING_DIR}/*.txt {auto_output_dir}\n",
    "!cp {WORKING_DIR}/*.json {auto_output_dir}\n",
    "!mv {yml_path} {auto_output_dir}\n",
    "#!mv {output_f} {auto_output_dir}\n",
    "\n",
    "# Move the new path variables to avoid confusion\n",
    "yml_path = os.path.join(auto_output_dir, os.path.basename(yml_path))\n",
    "output_f = os.path.join(auto_output_dir, os.path.basename(output_f))\n",
    "\n",
    "# Create metadata files for the automatic stage-out directory\n",
    "with open(os.path.join(auto_output_dir, f'{regex_name}.met.json'), 'w', encoding='utf-8') as f:\n",
    "    content = {\n",
    "        'polarization': polarization,\n",
    "    }\n",
    "    f.write(json.dumps(content))\n",
    "with open(os.path.join(auto_output_dir, f'{regex_name}.dataset.json'), 'w', encoding='utf-8') as f:\n",
    "    content = {\n",
    "         'version': 'v1.0',\n",
    "         'label': 'This is purely an EXAMPLE metadata file, the values in this file are not representative of this product.',\n",
    "         'location': {\n",
    "           'type': 'polygon',\n",
    "           'coordinates': [\n",
    "             [\n",
    "                [-122.9059682940358,40.47090915967475],\n",
    "                [-121.6679748715316,37.84406528996276],\n",
    "                [-120.7310161872557,38.28728069813177],\n",
    "                [-121.7043611684245,39.94137004454238],\n",
    "                [-121.9536916840953,40.67097860759095],\n",
    "                [-122.3100379696548,40.7267890636145],\n",
    "                [-122.7640648263371,40.5457010812299],\n",
    "                [-122.9059682940358,40.47090915967475]\n",
    "              ]\n",
    "            ]\n",
    "        },\n",
    "        'starttime': '2017-01-01T00:00:00',\n",
    "        'endtime': '2017-01-01T00:05:00',\n",
    "    }\n",
    "    f.write(json.dumps(content))"
   ]
  }
 ],
 "metadata": {
  "kernelspec": {
   "display_name": "isce3_src",
   "language": "python",
   "name": "isce3_src"
  },
  "language_info": {
   "codemirror_mode": {
    "name": "ipython",
    "version": 3
   },
   "file_extension": ".py",
   "mimetype": "text/x-python",
   "name": "python",
   "nbconvert_exporter": "python",
   "pygments_lexer": "ipython3",
   "version": "3.12.9"
  }
 },
 "nbformat": 4,
 "nbformat_minor": 5
}
