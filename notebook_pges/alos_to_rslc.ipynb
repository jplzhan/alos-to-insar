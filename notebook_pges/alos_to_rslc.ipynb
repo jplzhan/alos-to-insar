{
 "cells": [
  {
   "cell_type": "markdown",
   "id": "43588eb5-1dfc-4e82-8503-940bbbaffbb6",
   "metadata": {
    "tags": []
   },
   "source": [
    "***\n",
    "## ASFSession\n",
    "\n",
    "Because downloading any product in the ASF archive requires authentication, `asf_search` provides the `ASFSession` class, a subclass of `Session` with a few specific methods added to make authentication straightforward.\n",
    "\n",
    "Using .netrc credentials is the preferred method for authentication. For more information, see the [session authentication documentation](https://docs.asf.alaska.edu/asf_search/downloading/#session-authentication)\n",
    "\n",
    "A new, unauthenticated session can be created, although the authentication methods listed below allow chaining for direct creation of an authenticated session."
   ]
  },
  {
   "cell_type": "code",
   "execution_count": null,
   "id": "d082b6cd-2ee0-4615-b597-9c6d61472b7b",
   "metadata": {
    "tags": [
     "parameters"
    ]
   },
   "outputs": [],
   "source": [
    "data_link = 's3://nisar-adt-cc-ondemand/ALOS-1-data/ALPSRP267700710-L1.0.zip' # string\n",
    "gpu_enabled = 1 # boolean\n",
    "s3_upload = 0 # boolean\n",
    "s3_url = 's3://nisar-st-data-ondemand/ADT_Testing/' # string\n",
    "key = '' # string\n",
    "secret = '' # string\n",
    "token = '' # string\n",
    "region = '' # string\n",
    "\n",
    "# hysds specifications\n",
    "_time_limit = 86400\n",
    "_soft_time_limit = 86400\n",
    "_disk_usage = \"10GB\"\n",
    "_submission_type = \"iteration\"\n",
    "_label = \"ALOS to RSLC PGE\""
   ]
  },
  {
   "cell_type": "code",
   "execution_count": null,
   "id": "b9ef6453-bb7c-4ab9-8cfb-cd61a46cff92",
   "metadata": {
    "tags": []
   },
   "outputs": [],
   "source": [
    "# Convert boolean parameters because they must be specified as strings\n",
    "try:\n",
    "    if not isinstance(gpu_enabled, bool):\n",
    "        gpu_enabled = int(gpu_enabled) > 0\n",
    "except ValueError:\n",
    "    if instance(gpu_enabled, str):\n",
    "        gpu_enabled = gpu_enabled.lower() == 'true'\n",
    "    else:\n",
    "        gpu_enabled = False\n",
    "print(f'{gpu_enabled=}')\n",
    "\n",
    "try:\n",
    "    if not isinstance(s3_upload, bool):\n",
    "        s3_upload = int(s3_upload) > 0\n",
    "except ValueError:\n",
    "    if isinstance(s3_upload, str):\n",
    "        s3_upload = s3_upload.lower() == 'true'\n",
    "    else:\n",
    "        s3_upload = False\n",
    "print(f'{s3_upload=}')"
   ]
  },
  {
   "cell_type": "markdown",
   "id": "118f2976-fae9-481d-b8bf-6d35927f685a",
   "metadata": {},
   "source": [
    "### `auth_with_creds()`\n",
    "This authentication method accepts a username and password and establishes an authentication session with EDL and ASF."
   ]
  },
  {
   "cell_type": "code",
   "execution_count": null,
   "id": "f4ea3b83-58cb-4baa-beb1-5ae272466ef1",
   "metadata": {
    "tags": []
   },
   "outputs": [],
   "source": [
    "import os\n",
    "import yaml\n",
    "import asf_search as asf\n",
    "import boto3\n",
    "import aws_uploader\n",
    "\n",
    "WORKING_DIR = os.getcwd()\n",
    "HOME_DIR = os.environ['HOME']\n",
    "NOTEBOOK_PGE_DIR = os.environ.get('NOTEBOOK_PGE_DIR', WORKING_DIR)\n",
    "ISCE3_BUILD_DIR = os.environ.get('ISCE3_BUILD_DIR', f'{HOME_DIR}/isce3/build/install')\n",
    "\n",
    "DOWNLOAD_DIR = os.path.join(WORKING_DIR, 'downloads')\n",
    "EXTRACT_DIR = os.path.join(WORKING_DIR, 'alos_data')\n",
    "OUTPUT_DIR = os.path.join(WORKING_DIR, 'output')\n",
    "\n",
    "os.makedirs(DOWNLOAD_DIR, exist_ok=True)\n",
    "os.makedirs(EXTRACT_DIR, exist_ok=True)\n",
    "os.makedirs(OUTPUT_DIR, exist_ok=True)\n",
    "\n",
    "with open(os.path.join(NOTEBOOK_PGE_DIR, '../templates/focus.yaml'), 'r') as f:\n",
    "    FOCUS_YML = yaml.safe_load(f)\n",
    "\n",
    "with open(os.path.join(NOTEBOOK_PGE_DIR, '../templates/insar.yaml'), 'r') as f:\n",
    "    INSAR_YML = yaml.safe_load(f)\n",
    "\n",
    "def download_alos_data(urls: list):\n",
    "    \"\"\"Downloads ALOS-1 data given by two urls and returns the paths to the .\"\"\"\n",
    "    try:\n",
    "        current_dir = os.getcwd()\n",
    "        user_pass_session = asf.ASFSession().auth_with_creds(username, password)\n",
    "        asf.download_urls(urls=urls, path=DOWNLOAD_DIR, session=user_pass_session, processes=2)\n",
    "        files = os.listdir(DOWNLOAD_DIR)\n",
    "        os.chdir(EXTRACT_DIR)\n",
    "        extract_dirs = []\n",
    "        for f in files:\n",
    "            splitext = os.path.splitext(f)\n",
    "            zip_f = os.path.join(DOWNLOAD_DIR, f)\n",
    "            !unzip -o {zip_f}\n",
    "            extract_dirs.append(os.path.abspath(splitext[0]))\n",
    "        os.chdir(current_dir)\n",
    "        print('Extracted:', extract_dirs)\n",
    "        return extract_dirs\n",
    "    except asf.ASFAuthenticationError as e:\n",
    "        print(f'Auth failed: {e}')\n",
    "\n",
    "def write_focus_config(target_path: str, yml_path: str):\n",
    "    \"\"\"Writes a focus.py runconfig with the specified target path.\"\"\"\n",
    "    FOCUS_YML['runconfig']['groups']['worker']['gpu_enabled'] = gpu_enabled\n",
    "    FOCUS_YML['runconfig']['groups']['input_file_group']['input_file_path'] = [target_path]\n",
    "    FOCUS_YML['runconfig']['groups']['product_path_group']['sas_output_file'] = os.path.join('RSLC', os.path.basename(target_path))\n",
    "    FOCUS_YML['runconfig']['groups']['product_path_group']['sas_config_file'] = yml_path\n",
    "    with open(yml_path, 'w', encoding='utf-8') as f:\n",
    "        yaml.dump(FOCUS_YML, f, default_flow_style=False)\n",
    "\n",
    "def write_insar_config(f1: str, f2: str, yml_path: str):\n",
    "    \"\"\"Writes the INSAR runconfig with the two specified RSLCs.\"\"\"\n",
    "    INSAR_YML['runconfig']['groups']['worker']['gpu_enabled'] = gpu_enabled\n",
    "    INSAR_YML['runconfig']['groups']['input_file_group']['reference_rslc_file'] = f1\n",
    "    INSAR_YML['runconfig']['groups']['input_file_group']['secondary_rslc_file'] = f2\n",
    "    with open(yml_path, 'w', encoding='utf-8') as f:\n",
    "        yaml.dump(INSAR_YML, f, default_flow_style=False)\n",
    "\n",
    "print(WORKING_DIR)"
   ]
  },
  {
   "cell_type": "code",
   "execution_count": null,
   "id": "9247142a-6fce-4406-8253-179f08f27e15",
   "metadata": {
    "tags": []
   },
   "outputs": [],
   "source": [
    "# os.environ['PYTHONPATH'] = f\"{ISCE3_BUILD_DIR}/install/packages:${os.environ['LD_LIBRARY_PATH']}\"\n",
    "# os.environ['LD_LIBRARY_PATH']= f\"{ISCE3_BUILD_DIR}/install/lib64:${os.environ['LD_LIBRARY_PATH']}\""
   ]
  },
  {
   "cell_type": "code",
   "execution_count": null,
   "id": "a69116c4-7783-4648-bdbe-ee9a3966b059",
   "metadata": {},
   "outputs": [],
   "source": [
    "from urllib.parse import urlparse\n",
    "\n",
    "# Download the specified ALOS data\n",
    "zip_f = os.path.join(DOWNLOAD_DIR, os.path.basename(urlparse(data_link).path))\n",
    "aws_uploader.AWS.download_s3(data_link, zip_f)\n",
    "!unzip -o {zip_f}\n",
    "extract_dir = os.path.abspath(os.path.splitext(zip_f)[0])\n",
    "target_path = os.path.join(OUTPUT_DIR, f'{os.path.basename(extract_dir)}.h5')\n",
    "print(f'Destination: {target_path}')\n",
    "\n",
    "# Focus the data\n",
    "yml_path = os.path.join(OUTPUT_DIR, f'{os.path.basename(extract_dir)}.yaml')\n",
    "write_focus_config(target_path, yml_path)\n",
    "!mamba run -n isce3_src python {ISCE3_BUILD_DIR}/share/nisar/examples/alos_to_nisar_l0b.py -i {extract_dir} -o {target_path}\n",
    "!mamba run -n isce3_src python {ISCE3_BUILD_DIR}/packages/nisar/workflows/focus.py {yml_path} --no-log"
   ]
  },
  {
   "cell_type": "code",
   "execution_count": null,
   "id": "5f2ee47c-34a8-4467-940b-4c4a6914532d",
   "metadata": {},
   "outputs": [],
   "source": [
    "if s3_upload:\n",
    "    parsed_url = urlparse(s3_url)\n",
    "    bucket = parsed_url.netloc\n",
    "    path = parsed_url.path\n",
    "\n",
    "    # Upload to s3 bucket\n",
    "    if key != '' or secret != '' or token != '' or region != '':\n",
    "        # short term access key\n",
    "        uploader = aws_uploader.AWS(key, secret, token, region)\n",
    "    else:\n",
    "        # uses role based access\n",
    "        uploader = aws_uploader.AWS('', '', '', '', configdir=False)\n",
    "    uploader.upload_dir(OUTPUT_DIR, bucket, path)\n",
    "else:\n",
    "    print('Flag for manual S3 upload was not set, skipping this step...')"
   ]
  },
  {
   "cell_type": "code",
   "execution_count": null,
   "id": "60e04ae9-33c3-43f4-9c1d-254a7908a672",
   "metadata": {},
   "outputs": [],
   "source": []
  }
 ],
 "metadata": {
  "celltoolbar": "Raw Cell Format",
  "kernelspec": {
   "display_name": "isce3_src",
   "language": "python",
   "name": "isce3_src"
  },
  "language_info": {
   "codemirror_mode": {
    "name": "ipython",
    "version": 3
   },
   "file_extension": ".py",
   "mimetype": "text/x-python",
   "name": "python",
   "nbconvert_exporter": "python",
   "pygments_lexer": "ipython3",
   "version": "3.9.17"
  },
  "toc-autonumbering": false,
  "toc-showtags": false
 },
 "nbformat": 4,
 "nbformat_minor": 5
}
