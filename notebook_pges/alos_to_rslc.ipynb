{
 "cells": [
  {
   "cell_type": "markdown",
   "id": "43588eb5-1dfc-4e82-8503-940bbbaffbb6",
   "metadata": {
    "tags": []
   },
   "source": [
    "***\n",
    "## ASFSession\n",
    "\n",
    "Because downloading any product in the ASF archive requires authentication, `asf_search` provides the `ASFSession` class, a subclass of `Session` with a few specific methods added to make authentication straightforward.\n",
    "\n",
    "Using .netrc credentials is the preferred method for authentication. For more information, see the [session authentication documentation](https://docs.asf.alaska.edu/asf_search/downloading/#session-authentication)\n",
    "\n",
    "A new, unauthenticated session can be created, although the authentication methods listed below allow chaining for direct creation of an authenticated session."
   ]
  },
  {
   "cell_type": "code",
   "execution_count": 1,
   "id": "d082b6cd-2ee0-4615-b597-9c6d61472b7b",
   "metadata": {
    "tags": [
     "parameters"
    ]
   },
   "outputs": [],
   "source": [
    "username = 'username' # string\n",
    "password = 'password' # string\n",
    "rslc_1 = 'https://datapool.asf.alaska.edu/L1.0/A3/ALPSRP274410710-L1.0.zip' # string\n",
    "rslc_2 = 'https://datapool.asf.alaska.edu/L1.0/A3/ALPSRP267700710-L1.0.zip' # string\n",
    "key = '' # string\n",
    "secret = '' # string\n",
    "token = '' # string\n",
    "region = '' # string\n",
    "\n",
    "# hysds specifications\n",
    "_time_limit = 3600\n",
    "_soft_time_limit = 3600\n",
    "_disk_usage = \"10GB\"\n",
    "_submission_type = \"iteration\"\n",
    "_label = \"ALOS to RSLC PGE\""
   ]
  },
  {
   "cell_type": "markdown",
   "id": "118f2976-fae9-481d-b8bf-6d35927f685a",
   "metadata": {},
   "source": [
    "### `auth_with_creds()`\n",
    "This authentication method accepts a username and password and establishes an authentication session with EDL and ASF."
   ]
  },
  {
   "cell_type": "code",
   "execution_count": 2,
   "id": "f4ea3b83-58cb-4baa-beb1-5ae272466ef1",
   "metadata": {
    "tags": []
   },
   "outputs": [
    {
     "name": "stdout",
     "output_type": "stream",
     "text": [
      "/home/jovyan/Github/alos-to-insar/notebook_pges\n"
     ]
    }
   ],
   "source": [
    "import os\n",
    "import yaml\n",
    "import asf_search as asf\n",
    "import boto3\n",
    "import aws_uploader\n",
    "\n",
    "WORKING_DIR = os.getcwd()\n",
    "HOME_DIR = os.environ['HOME']\n",
    "NOTEBOOK_PGE_DIR = os.environ.get('NOTEBOOK_PGE_DIR', WORKING_DIR)\n",
    "ISCE3_BUILD_DIR = os.environ.get('ISCE3_BUILD_DIR', f'{HOME_DIR}/isce3/build/install')\n",
    "\n",
    "DOWNLOAD_DIR = os.path.join(WORKING_DIR, 'downloads')\n",
    "EXTRACT_DIR = os.path.join(WORKING_DIR, 'alos_data')\n",
    "OUTPUT_DIR = os.path.join(WORKING_DIR, 'output')\n",
    "\n",
    "os.makedirs(DOWNLOAD_DIR, exist_ok=True)\n",
    "os.makedirs(EXTRACT_DIR, exist_ok=True)\n",
    "os.makedirs(OUTPUT_DIR, exist_ok=True)\n",
    "\n",
    "with open(os.path.join(NOTEBOOK_PGE_DIR, '../templates/focus.yaml'), 'r') as f:\n",
    "    FOCUS_YML = yaml.safe_load(f)\n",
    "\n",
    "with open(os.path.join(NOTEBOOK_PGE_DIR, '../templates/insar.yaml'), 'r') as f:\n",
    "    INSAR_YML = yaml.safe_load(f)\n",
    "\n",
    "def download_alos_data(urls: list):\n",
    "    \"\"\"Downloads ALOS-1 data given by two urls and returns the paths to the .\"\"\"\n",
    "    try:\n",
    "        current_dir = os.getcwd()\n",
    "        user_pass_session = asf.ASFSession().auth_with_creds(username, password)\n",
    "        asf.download_urls(urls=urls, path=DOWNLOAD_DIR, session=user_pass_session, processes=2)\n",
    "        files = os.listdir(DOWNLOAD_DIR)\n",
    "        os.chdir(EXTRACT_DIR)\n",
    "        extract_dirs = []\n",
    "        for f in files:\n",
    "            splitext = os.path.splitext(f)\n",
    "            zip_f = os.path.join(DOWNLOAD_DIR, f)\n",
    "            !unzip -o {zip_f}\n",
    "            extract_dirs.append(os.path.abspath(splitext[0]))\n",
    "        os.chdir(current_dir)\n",
    "        print('Extracted:', extract_dirs)\n",
    "        return extract_dirs\n",
    "    except asf.ASFAuthenticationError as e:\n",
    "        print(f'Auth failed: {e}')\n",
    "\n",
    "def write_focus_config(target_path: str, yml_path: str):\n",
    "    \"\"\"Downloads\"\"\"\n",
    "    FOCUS_YML['runconfig']['groups']['input_file_group']['input_file_path'] = [target_path]\n",
    "    FOCUS_YML['runconfig']['groups']['product_path_group']['sas_output_file'] = os.path.join('RSLC', os.path.basename(target_path))\n",
    "    FOCUS_YML['runconfig']['groups']['product_path_group']['sas_config_file'] = yml_path\n",
    "    with open(yml_path, 'w', encoding='utf-8') as f:\n",
    "        yaml.dump(FOCUS_YML, f, default_flow_style=False)\n",
    "\n",
    "def write_insar_config(target_path: str, yml_path: str):\n",
    "    INSAR_YML['runconfig']['groups']['input_file_group']['reference_rslc_file'] = f1\n",
    "    INSAR_YML['runconfig']['groups']['input_file_group']['secondary_rslc_file'] = f2\n",
    "    with open(yml_path, 'w', encoding='utf-8') as f:\n",
    "        yaml.dump(INSAR_YML, f, default_flow_style=False)\n",
    "\n",
    "print(WORKING_DIR)"
   ]
  },
  {
   "cell_type": "code",
   "execution_count": 3,
   "id": "9247142a-6fce-4406-8253-179f08f27e15",
   "metadata": {
    "tags": []
   },
   "outputs": [],
   "source": [
    "# os.environ['PYTHONPATH'] = f\"{ISCE3_BUILD_DIR}/install/packages:${os.environ['LD_LIBRARY_PATH']}\"\n",
    "# os.environ['LD_LIBRARY_PATH']= f\"{ISCE3_BUILD_DIR}/install/lib64:${os.environ['LD_LIBRARY_PATH']}\""
   ]
  },
  {
   "cell_type": "code",
   "execution_count": 4,
   "id": "a69116c4-7783-4648-bdbe-ee9a3966b059",
   "metadata": {},
   "outputs": [
    {
     "name": "stderr",
     "output_type": "stream",
     "text": [
      "/home/jovyan/.local/envs/isce3_src/lib/python3.9/site-packages/asf_search/download/download.py:65: UserWarning: File already exists, skipping download: /home/jovyan/Github/alos-to-insar/notebook_pges/downloads/ALPSRP274410710-L1.0.zip\n",
      "  warnings.warn(f'File already exists, skipping download: {os.path.join(path, filename)}')\n",
      "/home/jovyan/.local/envs/isce3_src/lib/python3.9/site-packages/asf_search/download/download.py:65: UserWarning: File already exists, skipping download: /home/jovyan/Github/alos-to-insar/notebook_pges/downloads/ALPSRP267700710-L1.0.zip\n",
      "  warnings.warn(f'File already exists, skipping download: {os.path.join(path, filename)}')\n"
     ]
    },
    {
     "name": "stdout",
     "output_type": "stream",
     "text": [
      "Archive:  /home/jovyan/Github/alos-to-insar/notebook_pges/downloads/ALPSRP267700710-L1.0.zip\n",
      "  End-of-central-directory signature not found.  Either this file is not\n",
      "  a zipfile, or it constitutes one disk of a multi-part archive.  In the\n",
      "  latter case the central directory and zipfile comment will be found on\n",
      "  the last disk(s) of this archive.\n",
      "unzip:  cannot find zipfile directory in one of /home/jovyan/Github/alos-to-insar/notebook_pges/downloads/ALPSRP267700710-L1.0.zip or\n",
      "        /home/jovyan/Github/alos-to-insar/notebook_pges/downloads/ALPSRP267700710-L1.0.zip.zip, and cannot find /home/jovyan/Github/alos-to-insar/notebook_pges/downloads/ALPSRP267700710-L1.0.zip.ZIP, period.\n",
      "Archive:  /home/jovyan/Github/alos-to-insar/notebook_pges/downloads/ALPSRP274410710-L1.0.zip\n",
      "   creating: ALPSRP274410710-L1.0/\n",
      "  inflating: ALPSRP274410710-L1.0/IMG-HH-ALPSRP274410710-H1.0__A  \n",
      "  inflating: ALPSRP274410710-L1.0/VOL-ALPSRP274410710-H1.0__A  \n",
      "  inflating: ALPSRP274410710-L1.0/LED-ALPSRP274410710-H1.0__A  \n",
      "  inflating: ALPSRP274410710-L1.0/TRL-ALPSRP274410710-H1.0__A  \n",
      "  inflating: ALPSRP274410710-L1.0/workreport  \n",
      "  inflating: ALPSRP274410710-L1.0/ALPSRP274410710.l0.workreport  \n",
      "Extracted: ['/home/jovyan/Github/alos-to-insar/notebook_pges/alos_data/ALPSRP267700710-L1.0', '/home/jovyan/Github/alos-to-insar/notebook_pges/alos_data/ALPSRP274410710-L1.0']\n",
      "['/home/jovyan/Github/alos-to-insar/notebook_pges/alos_data/ALPSRP267700710-L1.0', '/home/jovyan/Github/alos-to-insar/notebook_pges/alos_data/ALPSRP274410710-L1.0']\n",
      "Traceback (most recent call last):\n",
      "  File \"/home/jovyan/isce3/build/install/share/nisar/examples/alos_to_nisar_l0b.py\", line 6, in <module>\n",
      "    import isce3\n",
      "ModuleNotFoundError: No module named 'isce3'\n",
      "\n",
      "ERROR conda.cli.main_run:execute(47): `conda run python /home/jovyan/isce3/build/install/share/nisar/examples/alos_to_nisar_l0b.py -i /home/jovyan/Github/alos-to-insar/notebook_pges/alos_data/ALPSRP267700710-L1.0 -o /home/jovyan/Github/alos-to-insar/notebook_pges/output/0.h5` failed. (See above for error)\n",
      "Traceback (most recent call last):\n",
      "  File \"/home/jovyan/isce3/build/install/packages/nisar/workflows/focus.py\", line 8, in <module>\n",
      "    from nisar.mixed_mode import (PolChannel, PolChannelSet, Band,\n",
      "ModuleNotFoundError: No module named 'nisar'\n",
      "\n",
      "ERROR conda.cli.main_run:execute(47): `conda run python /home/jovyan/isce3/build/install/packages/nisar/workflows/focus.py /home/jovyan/Github/alos-to-insar/notebook_pges/output/0.yaml --no-log` failed. (See above for error)\n",
      "Traceback (most recent call last):\n",
      "  File \"/home/jovyan/isce3/build/install/share/nisar/examples/alos_to_nisar_l0b.py\", line 6, in <module>\n",
      "    import isce3\n",
      "ModuleNotFoundError: No module named 'isce3'\n",
      "\n",
      "ERROR conda.cli.main_run:execute(47): `conda run python /home/jovyan/isce3/build/install/share/nisar/examples/alos_to_nisar_l0b.py -i /home/jovyan/Github/alos-to-insar/notebook_pges/alos_data/ALPSRP274410710-L1.0 -o /home/jovyan/Github/alos-to-insar/notebook_pges/output/1.h5` failed. (See above for error)\n",
      "Traceback (most recent call last):\n",
      "  File \"/home/jovyan/isce3/build/install/packages/nisar/workflows/focus.py\", line 8, in <module>\n",
      "    from nisar.mixed_mode import (PolChannel, PolChannelSet, Band,\n",
      "ModuleNotFoundError: No module named 'nisar'\n",
      "\n",
      "ERROR conda.cli.main_run:execute(47): `conda run python /home/jovyan/isce3/build/install/packages/nisar/workflows/focus.py /home/jovyan/Github/alos-to-insar/notebook_pges/output/1.yaml --no-log` failed. (See above for error)\n"
     ]
    }
   ],
   "source": [
    "# Download the specified ALOS data\n",
    "extract_dirs = download_alos_data([rslc_1, rslc_2])\n",
    "print(extract_dirs)\n",
    "\n",
    "# Focus the data\n",
    "rlsc_paths = []\n",
    "for i, d in enumerate(extract_dirs):\n",
    "    target_path = os.path.join(OUTPUT_DIR, f'{i}.h5')\n",
    "    rlsc_paths.append(target_path)\n",
    "    yml_path = os.path.join(OUTPUT_DIR, f'{i}.yaml')\n",
    "    write_focus_config(target_path, yml_path)\n",
    "    !mamba run -n isce3_src python {ISCE3_BUILD_DIR}/share/nisar/examples/alos_to_nisar_l0b.py -i {d} -o {target_path}\n",
    "    !mamba run -n isce3_src python {ISCE3_BUILD_DIR}/packages/nisar/workflows/focus.py {yml_path} --no-log"
   ]
  },
  {
   "cell_type": "code",
   "execution_count": 5,
   "id": "5f2ee47c-34a8-4467-940b-4c4a6914532d",
   "metadata": {},
   "outputs": [
    {
     "ename": "S3UploadFailedError",
     "evalue": "Failed to upload /home/jovyan/Github/alos-to-insar/notebook_pges/output/0.yaml to nisar-st-data-ondemand/ADT_Testing/0.yaml: An error occurred (AccessDenied) when calling the PutObject operation: Access Denied",
     "output_type": "error",
     "traceback": [
      "\u001b[0;31m---------------------------------------------------------------------------\u001b[0m",
      "\u001b[0;31mClientError\u001b[0m                               Traceback (most recent call last)",
      "File \u001b[0;32m~/.local/envs/isce3_src/lib/python3.9/site-packages/boto3/s3/transfer.py:292\u001b[0m, in \u001b[0;36mS3Transfer.upload_file\u001b[0;34m(self, filename, bucket, key, callback, extra_args)\u001b[0m\n\u001b[1;32m    291\u001b[0m \u001b[38;5;28;01mtry\u001b[39;00m:\n\u001b[0;32m--> 292\u001b[0m     \u001b[43mfuture\u001b[49m\u001b[38;5;241;43m.\u001b[39;49m\u001b[43mresult\u001b[49m\u001b[43m(\u001b[49m\u001b[43m)\u001b[49m\n\u001b[1;32m    293\u001b[0m \u001b[38;5;66;03m# If a client error was raised, add the backwards compatibility layer\u001b[39;00m\n\u001b[1;32m    294\u001b[0m \u001b[38;5;66;03m# that raises a S3UploadFailedError. These specific errors were only\u001b[39;00m\n\u001b[1;32m    295\u001b[0m \u001b[38;5;66;03m# ever thrown for upload_parts but now can be thrown for any related\u001b[39;00m\n\u001b[1;32m    296\u001b[0m \u001b[38;5;66;03m# client error.\u001b[39;00m\n",
      "File \u001b[0;32m~/.local/envs/isce3_src/lib/python3.9/site-packages/s3transfer/futures.py:103\u001b[0m, in \u001b[0;36mTransferFuture.result\u001b[0;34m(self)\u001b[0m\n\u001b[1;32m     99\u001b[0m \u001b[38;5;28;01mtry\u001b[39;00m:\n\u001b[1;32m    100\u001b[0m     \u001b[38;5;66;03m# Usually the result() method blocks until the transfer is done,\u001b[39;00m\n\u001b[1;32m    101\u001b[0m     \u001b[38;5;66;03m# however if a KeyboardInterrupt is raised we want want to exit\u001b[39;00m\n\u001b[1;32m    102\u001b[0m     \u001b[38;5;66;03m# out of this and propagate the exception.\u001b[39;00m\n\u001b[0;32m--> 103\u001b[0m     \u001b[38;5;28;01mreturn\u001b[39;00m \u001b[38;5;28;43mself\u001b[39;49m\u001b[38;5;241;43m.\u001b[39;49m\u001b[43m_coordinator\u001b[49m\u001b[38;5;241;43m.\u001b[39;49m\u001b[43mresult\u001b[49m\u001b[43m(\u001b[49m\u001b[43m)\u001b[49m\n\u001b[1;32m    104\u001b[0m \u001b[38;5;28;01mexcept\u001b[39;00m \u001b[38;5;167;01mKeyboardInterrupt\u001b[39;00m \u001b[38;5;28;01mas\u001b[39;00m e:\n",
      "File \u001b[0;32m~/.local/envs/isce3_src/lib/python3.9/site-packages/s3transfer/futures.py:266\u001b[0m, in \u001b[0;36mTransferCoordinator.result\u001b[0;34m(self)\u001b[0m\n\u001b[1;32m    265\u001b[0m \u001b[38;5;28;01mif\u001b[39;00m \u001b[38;5;28mself\u001b[39m\u001b[38;5;241m.\u001b[39m_exception:\n\u001b[0;32m--> 266\u001b[0m     \u001b[38;5;28;01mraise\u001b[39;00m \u001b[38;5;28mself\u001b[39m\u001b[38;5;241m.\u001b[39m_exception\n\u001b[1;32m    267\u001b[0m \u001b[38;5;28;01mreturn\u001b[39;00m \u001b[38;5;28mself\u001b[39m\u001b[38;5;241m.\u001b[39m_result\n",
      "File \u001b[0;32m~/.local/envs/isce3_src/lib/python3.9/site-packages/s3transfer/tasks.py:139\u001b[0m, in \u001b[0;36mTask.__call__\u001b[0;34m(self)\u001b[0m\n\u001b[1;32m    138\u001b[0m     \u001b[38;5;28;01mif\u001b[39;00m \u001b[38;5;129;01mnot\u001b[39;00m \u001b[38;5;28mself\u001b[39m\u001b[38;5;241m.\u001b[39m_transfer_coordinator\u001b[38;5;241m.\u001b[39mdone():\n\u001b[0;32m--> 139\u001b[0m         \u001b[38;5;28;01mreturn\u001b[39;00m \u001b[38;5;28;43mself\u001b[39;49m\u001b[38;5;241;43m.\u001b[39;49m\u001b[43m_execute_main\u001b[49m\u001b[43m(\u001b[49m\u001b[43mkwargs\u001b[49m\u001b[43m)\u001b[49m\n\u001b[1;32m    140\u001b[0m \u001b[38;5;28;01mexcept\u001b[39;00m \u001b[38;5;167;01mException\u001b[39;00m \u001b[38;5;28;01mas\u001b[39;00m e:\n",
      "File \u001b[0;32m~/.local/envs/isce3_src/lib/python3.9/site-packages/s3transfer/tasks.py:162\u001b[0m, in \u001b[0;36mTask._execute_main\u001b[0;34m(self, kwargs)\u001b[0m\n\u001b[1;32m    160\u001b[0m logger\u001b[38;5;241m.\u001b[39mdebug(\u001b[38;5;124mf\u001b[39m\u001b[38;5;124m\"\u001b[39m\u001b[38;5;124mExecuting task \u001b[39m\u001b[38;5;132;01m{\u001b[39;00m\u001b[38;5;28mself\u001b[39m\u001b[38;5;132;01m}\u001b[39;00m\u001b[38;5;124m with kwargs \u001b[39m\u001b[38;5;132;01m{\u001b[39;00mkwargs_to_display\u001b[38;5;132;01m}\u001b[39;00m\u001b[38;5;124m\"\u001b[39m)\n\u001b[0;32m--> 162\u001b[0m return_value \u001b[38;5;241m=\u001b[39m \u001b[38;5;28;43mself\u001b[39;49m\u001b[38;5;241;43m.\u001b[39;49m\u001b[43m_main\u001b[49m\u001b[43m(\u001b[49m\u001b[38;5;241;43m*\u001b[39;49m\u001b[38;5;241;43m*\u001b[39;49m\u001b[43mkwargs\u001b[49m\u001b[43m)\u001b[49m\n\u001b[1;32m    163\u001b[0m \u001b[38;5;66;03m# If the task is the final task, then set the TransferFuture's\u001b[39;00m\n\u001b[1;32m    164\u001b[0m \u001b[38;5;66;03m# value to the return value from main().\u001b[39;00m\n",
      "File \u001b[0;32m~/.local/envs/isce3_src/lib/python3.9/site-packages/s3transfer/upload.py:758\u001b[0m, in \u001b[0;36mPutObjectTask._main\u001b[0;34m(self, client, fileobj, bucket, key, extra_args)\u001b[0m\n\u001b[1;32m    757\u001b[0m \u001b[38;5;28;01mwith\u001b[39;00m fileobj \u001b[38;5;28;01mas\u001b[39;00m body:\n\u001b[0;32m--> 758\u001b[0m     \u001b[43mclient\u001b[49m\u001b[38;5;241;43m.\u001b[39;49m\u001b[43mput_object\u001b[49m\u001b[43m(\u001b[49m\u001b[43mBucket\u001b[49m\u001b[38;5;241;43m=\u001b[39;49m\u001b[43mbucket\u001b[49m\u001b[43m,\u001b[49m\u001b[43m \u001b[49m\u001b[43mKey\u001b[49m\u001b[38;5;241;43m=\u001b[39;49m\u001b[43mkey\u001b[49m\u001b[43m,\u001b[49m\u001b[43m \u001b[49m\u001b[43mBody\u001b[49m\u001b[38;5;241;43m=\u001b[39;49m\u001b[43mbody\u001b[49m\u001b[43m,\u001b[49m\u001b[43m \u001b[49m\u001b[38;5;241;43m*\u001b[39;49m\u001b[38;5;241;43m*\u001b[39;49m\u001b[43mextra_args\u001b[49m\u001b[43m)\u001b[49m\n",
      "File \u001b[0;32m~/.local/envs/isce3_src/lib/python3.9/site-packages/botocore/client.py:534\u001b[0m, in \u001b[0;36mClientCreator._create_api_method.<locals>._api_call\u001b[0;34m(self, *args, **kwargs)\u001b[0m\n\u001b[1;32m    533\u001b[0m \u001b[38;5;66;03m# The \"self\" in this scope is referring to the BaseClient.\u001b[39;00m\n\u001b[0;32m--> 534\u001b[0m \u001b[38;5;28;01mreturn\u001b[39;00m \u001b[38;5;28;43mself\u001b[39;49m\u001b[38;5;241;43m.\u001b[39;49m\u001b[43m_make_api_call\u001b[49m\u001b[43m(\u001b[49m\u001b[43moperation_name\u001b[49m\u001b[43m,\u001b[49m\u001b[43m \u001b[49m\u001b[43mkwargs\u001b[49m\u001b[43m)\u001b[49m\n",
      "File \u001b[0;32m~/.local/envs/isce3_src/lib/python3.9/site-packages/botocore/client.py:976\u001b[0m, in \u001b[0;36mBaseClient._make_api_call\u001b[0;34m(self, operation_name, api_params)\u001b[0m\n\u001b[1;32m    975\u001b[0m     error_class \u001b[38;5;241m=\u001b[39m \u001b[38;5;28mself\u001b[39m\u001b[38;5;241m.\u001b[39mexceptions\u001b[38;5;241m.\u001b[39mfrom_code(error_code)\n\u001b[0;32m--> 976\u001b[0m     \u001b[38;5;28;01mraise\u001b[39;00m error_class(parsed_response, operation_name)\n\u001b[1;32m    977\u001b[0m \u001b[38;5;28;01melse\u001b[39;00m:\n",
      "\u001b[0;31mClientError\u001b[0m: An error occurred (AccessDenied) when calling the PutObject operation: Access Denied",
      "\nDuring handling of the above exception, another exception occurred:\n",
      "\u001b[0;31mS3UploadFailedError\u001b[0m                       Traceback (most recent call last)",
      "Cell \u001b[0;32mIn[5], line 15\u001b[0m\n\u001b[1;32m     12\u001b[0m \u001b[38;5;28;01melse\u001b[39;00m:\n\u001b[1;32m     13\u001b[0m     \u001b[38;5;66;03m# uses role based access\u001b[39;00m\n\u001b[1;32m     14\u001b[0m     uploader \u001b[38;5;241m=\u001b[39m aws_uploader\u001b[38;5;241m.\u001b[39mAWS(\u001b[38;5;124m'\u001b[39m\u001b[38;5;124m'\u001b[39m, \u001b[38;5;124m'\u001b[39m\u001b[38;5;124m'\u001b[39m, \u001b[38;5;124m'\u001b[39m\u001b[38;5;124m'\u001b[39m, \u001b[38;5;124m'\u001b[39m\u001b[38;5;124m'\u001b[39m, configdir\u001b[38;5;241m=\u001b[39m\u001b[38;5;28;01mFalse\u001b[39;00m)\n\u001b[0;32m---> 15\u001b[0m \u001b[43muploader\u001b[49m\u001b[38;5;241;43m.\u001b[39;49m\u001b[43mupload_dir\u001b[49m\u001b[43m(\u001b[49m\u001b[43mOUTPUT_DIR\u001b[49m\u001b[43m,\u001b[49m\u001b[43m \u001b[49m\u001b[43mbucket\u001b[49m\u001b[43m,\u001b[49m\u001b[43m \u001b[49m\u001b[43mpath\u001b[49m\u001b[43m)\u001b[49m\n",
      "File \u001b[0;32m~/Github/alos-to-insar/notebook_pges/aws_uploader.py:59\u001b[0m, in \u001b[0;36mAWS.upload_dir\u001b[0;34m(self, dirname, bucket, path)\u001b[0m\n\u001b[1;32m     57\u001b[0m     obj_name \u001b[38;5;241m=\u001b[39m os\u001b[38;5;241m.\u001b[39mpath\u001b[38;5;241m.\u001b[39mjoin(parent[prefix_len:], obj_name)\n\u001b[1;32m     58\u001b[0m obj_name \u001b[38;5;241m=\u001b[39m obj_name\u001b[38;5;241m.\u001b[39mlstrip(\u001b[38;5;124m'\u001b[39m\u001b[38;5;124m/\u001b[39m\u001b[38;5;124m'\u001b[39m)\n\u001b[0;32m---> 59\u001b[0m \u001b[38;5;28;43mself\u001b[39;49m\u001b[38;5;241;43m.\u001b[39;49m\u001b[43mupload_file\u001b[49m\u001b[43m(\u001b[49m\u001b[43mos\u001b[49m\u001b[38;5;241;43m.\u001b[39;49m\u001b[43mpath\u001b[49m\u001b[38;5;241;43m.\u001b[39;49m\u001b[43mjoin\u001b[49m\u001b[43m(\u001b[49m\u001b[43mparent\u001b[49m\u001b[43m,\u001b[49m\u001b[43m \u001b[49m\u001b[43mfname\u001b[49m\u001b[43m)\u001b[49m\u001b[43m,\u001b[49m\u001b[43m \u001b[49m\u001b[43mbucket\u001b[49m\u001b[43m,\u001b[49m\u001b[43m \u001b[49m\u001b[43mobj_name\u001b[49m\u001b[43m)\u001b[49m\n",
      "File \u001b[0;32m~/Github/alos-to-insar/notebook_pges/aws_uploader.py:39\u001b[0m, in \u001b[0;36mAWS.upload_file\u001b[0;34m(self, file_name, bucket, object_name)\u001b[0m\n\u001b[1;32m     37\u001b[0m \u001b[38;5;66;03m# Upload the file\u001b[39;00m\n\u001b[1;32m     38\u001b[0m \u001b[38;5;28;01mtry\u001b[39;00m:\n\u001b[0;32m---> 39\u001b[0m     response \u001b[38;5;241m=\u001b[39m \u001b[38;5;28;43mself\u001b[39;49m\u001b[38;5;241;43m.\u001b[39;49m\u001b[43mclient\u001b[49m\u001b[38;5;241;43m.\u001b[39;49m\u001b[43mupload_file\u001b[49m\u001b[43m(\u001b[49m\u001b[43mfile_name\u001b[49m\u001b[43m,\u001b[49m\u001b[43m \u001b[49m\u001b[43mbucket\u001b[49m\u001b[43m,\u001b[49m\u001b[43m \u001b[49m\u001b[43mobject_name\u001b[49m\u001b[43m)\u001b[49m\n\u001b[1;32m     40\u001b[0m \u001b[38;5;28;01mexcept\u001b[39;00m ClientError \u001b[38;5;28;01mas\u001b[39;00m e:\n\u001b[1;32m     41\u001b[0m     logging\u001b[38;5;241m.\u001b[39merror(e)\n",
      "File \u001b[0;32m~/.local/envs/isce3_src/lib/python3.9/site-packages/boto3/s3/inject.py:143\u001b[0m, in \u001b[0;36mupload_file\u001b[0;34m(self, Filename, Bucket, Key, ExtraArgs, Callback, Config)\u001b[0m\n\u001b[1;32m    108\u001b[0m \u001b[38;5;250m\u001b[39m\u001b[38;5;124;03m\"\"\"Upload a file to an S3 object.\u001b[39;00m\n\u001b[1;32m    109\u001b[0m \n\u001b[1;32m    110\u001b[0m \u001b[38;5;124;03mUsage::\u001b[39;00m\n\u001b[0;32m   (...)\u001b[0m\n\u001b[1;32m    140\u001b[0m \u001b[38;5;124;03m    transfer.\u001b[39;00m\n\u001b[1;32m    141\u001b[0m \u001b[38;5;124;03m\"\"\"\u001b[39;00m\n\u001b[1;32m    142\u001b[0m \u001b[38;5;28;01mwith\u001b[39;00m S3Transfer(\u001b[38;5;28mself\u001b[39m, Config) \u001b[38;5;28;01mas\u001b[39;00m transfer:\n\u001b[0;32m--> 143\u001b[0m     \u001b[38;5;28;01mreturn\u001b[39;00m \u001b[43mtransfer\u001b[49m\u001b[38;5;241;43m.\u001b[39;49m\u001b[43mupload_file\u001b[49m\u001b[43m(\u001b[49m\n\u001b[1;32m    144\u001b[0m \u001b[43m        \u001b[49m\u001b[43mfilename\u001b[49m\u001b[38;5;241;43m=\u001b[39;49m\u001b[43mFilename\u001b[49m\u001b[43m,\u001b[49m\n\u001b[1;32m    145\u001b[0m \u001b[43m        \u001b[49m\u001b[43mbucket\u001b[49m\u001b[38;5;241;43m=\u001b[39;49m\u001b[43mBucket\u001b[49m\u001b[43m,\u001b[49m\n\u001b[1;32m    146\u001b[0m \u001b[43m        \u001b[49m\u001b[43mkey\u001b[49m\u001b[38;5;241;43m=\u001b[39;49m\u001b[43mKey\u001b[49m\u001b[43m,\u001b[49m\n\u001b[1;32m    147\u001b[0m \u001b[43m        \u001b[49m\u001b[43mextra_args\u001b[49m\u001b[38;5;241;43m=\u001b[39;49m\u001b[43mExtraArgs\u001b[49m\u001b[43m,\u001b[49m\n\u001b[1;32m    148\u001b[0m \u001b[43m        \u001b[49m\u001b[43mcallback\u001b[49m\u001b[38;5;241;43m=\u001b[39;49m\u001b[43mCallback\u001b[49m\u001b[43m,\u001b[49m\n\u001b[1;32m    149\u001b[0m \u001b[43m    \u001b[49m\u001b[43m)\u001b[49m\n",
      "File \u001b[0;32m~/.local/envs/isce3_src/lib/python3.9/site-packages/boto3/s3/transfer.py:298\u001b[0m, in \u001b[0;36mS3Transfer.upload_file\u001b[0;34m(self, filename, bucket, key, callback, extra_args)\u001b[0m\n\u001b[1;32m    293\u001b[0m \u001b[38;5;66;03m# If a client error was raised, add the backwards compatibility layer\u001b[39;00m\n\u001b[1;32m    294\u001b[0m \u001b[38;5;66;03m# that raises a S3UploadFailedError. These specific errors were only\u001b[39;00m\n\u001b[1;32m    295\u001b[0m \u001b[38;5;66;03m# ever thrown for upload_parts but now can be thrown for any related\u001b[39;00m\n\u001b[1;32m    296\u001b[0m \u001b[38;5;66;03m# client error.\u001b[39;00m\n\u001b[1;32m    297\u001b[0m \u001b[38;5;28;01mexcept\u001b[39;00m ClientError \u001b[38;5;28;01mas\u001b[39;00m e:\n\u001b[0;32m--> 298\u001b[0m     \u001b[38;5;28;01mraise\u001b[39;00m S3UploadFailedError(\n\u001b[1;32m    299\u001b[0m         \u001b[38;5;124m\"\u001b[39m\u001b[38;5;124mFailed to upload \u001b[39m\u001b[38;5;132;01m{}\u001b[39;00m\u001b[38;5;124m to \u001b[39m\u001b[38;5;132;01m{}\u001b[39;00m\u001b[38;5;124m: \u001b[39m\u001b[38;5;132;01m{}\u001b[39;00m\u001b[38;5;124m\"\u001b[39m\u001b[38;5;241m.\u001b[39mformat(\n\u001b[1;32m    300\u001b[0m             filename, \u001b[38;5;124m'\u001b[39m\u001b[38;5;124m/\u001b[39m\u001b[38;5;124m'\u001b[39m\u001b[38;5;241m.\u001b[39mjoin([bucket, key]), e\n\u001b[1;32m    301\u001b[0m         )\n\u001b[1;32m    302\u001b[0m     )\n",
      "\u001b[0;31mS3UploadFailedError\u001b[0m: Failed to upload /home/jovyan/Github/alos-to-insar/notebook_pges/output/0.yaml to nisar-st-data-ondemand/ADT_Testing/0.yaml: An error occurred (AccessDenied) when calling the PutObject operation: Access Denied"
     ]
    }
   ],
   "source": [
    "from urllib.parse import urlparse\n",
    "\n",
    "s3_url = 's3://nisar-st-data-ondemand/ADT_Testing/'\n",
    "parsed_url = urlparse(s3_url)\n",
    "bucket = parsed_url.netloc\n",
    "path = parsed_url.path\n",
    "\n",
    "# Upload to s3 bucket\n",
    "if key != '' or secret != '' or token != '' or region != '':\n",
    "    # short term access key\n",
    "    uploader = aws_uploader.AWS(key, secret, token, region)\n",
    "else:\n",
    "    # uses role based access\n",
    "    uploader = aws_uploader.AWS('', '', '', '', configdir=False)\n",
    "uploader.upload_dir(OUTPUT_DIR, bucket, path)"
   ]
  },
  {
   "cell_type": "code",
   "execution_count": null,
   "id": "60e04ae9-33c3-43f4-9c1d-254a7908a672",
   "metadata": {},
   "outputs": [],
   "source": []
  }
 ],
 "metadata": {
  "celltoolbar": "Raw Cell Format",
  "kernelspec": {
   "display_name": "isce3_src",
   "language": "python",
   "name": "isce3_src"
  },
  "language_info": {
   "codemirror_mode": {
    "name": "ipython",
    "version": 3
   },
   "file_extension": ".py",
   "mimetype": "text/x-python",
   "name": "python",
   "nbconvert_exporter": "python",
   "pygments_lexer": "ipython3",
   "version": "3.9.17"
  },
  "toc-autonumbering": false,
  "toc-showtags": false
 },
 "nbformat": 4,
 "nbformat_minor": 5
}
