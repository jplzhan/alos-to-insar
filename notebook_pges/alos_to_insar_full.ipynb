{
 "cells": [
  {
   "cell_type": "markdown",
   "id": "43588eb5-1dfc-4e82-8503-940bbbaffbb6",
   "metadata": {
    "tags": []
   },
   "source": [
    "***\n",
    "## ASFSession\n",
    "\n",
    "Because downloading any product in the ASF archive requires authentication, `asf_search` provides the `ASFSession` class, a subclass of `Session` with a few specific methods added to make authentication straightforward.\n",
    "\n",
    "Using .netrc credentials is the preferred method for authentication. For more information, see the [session authentication documentation](https://docs.asf.alaska.edu/asf_search/downloading/#session-authentication)\n",
    "\n",
    "A new, unauthenticated session can be created, although the authentication methods listed below allow chaining for direct creation of an authenticated session."
   ]
  },
  {
   "cell_type": "code",
   "execution_count": 4,
   "id": "d082b6cd-2ee0-4615-b597-9c6d61472b7b",
   "metadata": {
    "tags": [
     "parameters"
    ]
   },
   "outputs": [],
   "source": [
    "username = 'username' # string\n",
    "password = 'password' # string\n",
    "rslc_1 = 'https://datapool.asf.alaska.edu/L1.0/A3/ALPSRP274410710-L1.0.zip' # string\n",
    "rslc_2 = 'https://datapool.asf.alaska.edu/L1.0/A3/ALPSRP267700710-L1.0.zip' # string\n",
    "dem = 'url' # string\n",
    "gpu_enabled = True # boolean\n",
    "key = '' # string\n",
    "secret = '' # string\n",
    "token = '' # string\n",
    "region = '' # string\n",
    "\n",
    "# hysds specifications\n",
    "_time_limit = 3600\n",
    "_soft_time_limit = 3600\n",
    "_disk_usage = \"20GB\"\n",
    "_submission_type = \"iteration\"\n",
    "_label = \"RSLC to INSAR PGE\""
   ]
  },
  {
   "cell_type": "markdown",
   "id": "118f2976-fae9-481d-b8bf-6d35927f685a",
   "metadata": {},
   "source": [
    "### `auth_with_creds()`\n",
    "This authentication method accepts a username and password and establishes an authentication session with EDL and ASF."
   ]
  },
  {
   "cell_type": "code",
   "execution_count": 5,
   "id": "f4ea3b83-58cb-4baa-beb1-5ae272466ef1",
   "metadata": {
    "tags": []
   },
   "outputs": [
    {
     "name": "stdout",
     "output_type": "stream",
     "text": [
      "/home/jovyan/Github/alos-to-insar/notebook_pges\n"
     ]
    }
   ],
   "source": [
    "import os\n",
    "import yaml\n",
    "import asf_search as asf\n",
    "import boto3\n",
    "import aws_uploader\n",
    "\n",
    "WORKING_DIR = os.getcwd()\n",
    "HOME_DIR = os.environ['HOME']\n",
    "NOTEBOOK_PGE_DIR = os.environ.get('NOTEBOOK_PGE_DIR', WORKING_DIR)\n",
    "ISCE3_BUILD_DIR = os.environ.get('ISCE3_BUILD_DIR', f'{HOME_DIR}/isce3/build/install')\n",
    "\n",
    "DOWNLOAD_DIR = os.path.join(WORKING_DIR, 'downloads')\n",
    "EXTRACT_DIR = os.path.join(WORKING_DIR, 'alos_data')\n",
    "OUTPUT_DIR = os.path.join(WORKING_DIR, 'output')\n",
    "\n",
    "os.makedirs(DOWNLOAD_DIR, exist_ok=True)\n",
    "os.makedirs(EXTRACT_DIR, exist_ok=True)\n",
    "os.makedirs(OUTPUT_DIR, exist_ok=True)\n",
    "\n",
    "with open(os.path.join(NOTEBOOK_PGE_DIR, '../templates/focus.yaml'), 'r') as f:\n",
    "    FOCUS_YML = yaml.safe_load(f)\n",
    "\n",
    "with open(os.path.join(NOTEBOOK_PGE_DIR, '../templates/insar.yaml'), 'r') as f:\n",
    "    INSAR_YML = yaml.safe_load(f)\n",
    "\n",
    "def download_alos_data(urls: list):\n",
    "    \"\"\"Downloads ALOS-1 data given by two urls and returns the paths to the .\"\"\"\n",
    "    try:\n",
    "        current_dir = os.getcwd()\n",
    "        user_pass_session = asf.ASFSession().auth_with_creds(username, password)\n",
    "        asf.download_urls(urls=urls, path=DOWNLOAD_DIR, session=user_pass_session, processes=2)\n",
    "        files = os.listdir(DOWNLOAD_DIR)\n",
    "        os.chdir(EXTRACT_DIR)\n",
    "        extract_dirs = []\n",
    "        for f in files:\n",
    "            splitext = os.path.splitext(f)\n",
    "            zip_f = os.path.join(DOWNLOAD_DIR, f)\n",
    "            !unzip -o {zip_f}\n",
    "            extract_dirs.append(os.path.abspath(splitext[0]))\n",
    "        os.chdir(current_dir)\n",
    "        print('Extracted:', extract_dirs)\n",
    "        return extract_dirs\n",
    "    except asf.ASFAuthenticationError as e:\n",
    "        print(f'Auth failed: {e}')\n",
    "\n",
    "def write_focus_config(target_path: str, yml_path: str):\n",
    "    \"\"\"Downloads\"\"\"\n",
    "    FOCUS_YML['runconfig']['groups']['worker']['gpu_enabled'] = gpu_enabled\n",
    "    FOCUS_YML['runconfig']['groups']['input_file_group']['input_file_path'] = [target_path]\n",
    "    FOCUS_YML['runconfig']['groups']['product_path_group']['sas_output_file'] = os.path.join('RSLC', os.path.basename(target_path))\n",
    "    FOCUS_YML['runconfig']['groups']['product_path_group']['sas_config_file'] = yml_path\n",
    "    with open(yml_path, 'w', encoding='utf-8') as f:\n",
    "        yaml.dump(FOCUS_YML, f, default_flow_style=False)\n",
    "\n",
    "def write_insar_config(target_path: str, yml_path: str):\n",
    "    INSAR_YML['runconfig']['groups']['worker']['gpu_enabled'] = gpu_enabled\n",
    "    INSAR_YML['runconfig']['groups']['input_file_group']['reference_rslc_file'] = f1\n",
    "    INSAR_YML['runconfig']['groups']['input_file_group']['secondary_rslc_file'] = f2\n",
    "    with open(yml_path, 'w', encoding='utf-8') as f:\n",
    "        yaml.dump(INSAR_YML, f, default_flow_style=False)\n",
    "\n",
    "print(WORKING_DIR)"
   ]
  },
  {
   "cell_type": "code",
   "execution_count": 6,
   "id": "a69116c4-7783-4648-bdbe-ee9a3966b059",
   "metadata": {},
   "outputs": [
    {
     "name": "stdout",
     "output_type": "stream",
     "text": [
      "Auth failed: Username or password is incorrect\n",
      "None\n"
     ]
    },
    {
     "ename": "TypeError",
     "evalue": "'NoneType' object is not iterable",
     "output_type": "error",
     "traceback": [
      "\u001b[0;31m---------------------------------------------------------------------------\u001b[0m",
      "\u001b[0;31mTypeError\u001b[0m                                 Traceback (most recent call last)",
      "Cell \u001b[0;32mIn[6], line 7\u001b[0m\n\u001b[1;32m      5\u001b[0m \u001b[38;5;66;03m# Focus the data\u001b[39;00m\n\u001b[1;32m      6\u001b[0m rlsc_paths \u001b[38;5;241m=\u001b[39m []\n\u001b[0;32m----> 7\u001b[0m \u001b[38;5;28;01mfor\u001b[39;00m i, d \u001b[38;5;129;01min\u001b[39;00m \u001b[38;5;28;43menumerate\u001b[39;49m\u001b[43m(\u001b[49m\u001b[43mextract_dirs\u001b[49m\u001b[43m)\u001b[49m:\n\u001b[1;32m      8\u001b[0m     target_path \u001b[38;5;241m=\u001b[39m os\u001b[38;5;241m.\u001b[39mpath\u001b[38;5;241m.\u001b[39mjoin(OUTPUT_DIR, \u001b[38;5;124m'\u001b[39m\u001b[38;5;124moutput\u001b[39m\u001b[38;5;124m'\u001b[39m, \u001b[38;5;124mf\u001b[39m\u001b[38;5;124m'\u001b[39m\u001b[38;5;132;01m{\u001b[39;00mi\u001b[38;5;132;01m}\u001b[39;00m\u001b[38;5;124m.h5\u001b[39m\u001b[38;5;124m'\u001b[39m)\n\u001b[1;32m      9\u001b[0m     rlsc_paths\u001b[38;5;241m.\u001b[39mappend(target_path)\n",
      "\u001b[0;31mTypeError\u001b[0m: 'NoneType' object is not iterable"
     ]
    }
   ],
   "source": [
    "# Download the specified ALOS data\n",
    "extract_dirs = download_alos_data([rslc_1, rslc_2])\n",
    "print(extract_dirs)\n",
    "\n",
    "# Focus the data\n",
    "rlsc_paths = []\n",
    "for i, d in enumerate(extract_dirs):\n",
    "    target_path = os.path.join(OUTPUT_DIR, 'output', f'{i}.h5')\n",
    "    rlsc_paths.append(target_path)\n",
    "    yml_path = os.path.join(OUTPUT_DIR, f'{i}.yaml')\n",
    "    write_focus_config(target_path, yml_path)\n",
    "    !python /home/jovyan/isce3/share/nisar/examples/alos_to_nisar_l0b.py -i {d} -o {target_path}\n",
    "    !python /home/jovyan/isce3/build/install/packages/nisar/workflows/focus.py {yml_path} --no-log\n",
    "\n",
    "# Download the DEM locally, which will appear as dem_0.tiff\n",
    "!python /home/jovyan/isce3/build/install/packages/nisar/workflows/stage_dem.py -b -123 35 -121 38\n",
    "\n",
    "# Run INSAR\n",
    "insar_run_config = os.path.join(HOME_DIR, 'insar_final.yml')\n",
    "write_insar_config(rslc_1, rslc_2, insar_run_config)\n",
    "!python /home/jovyan/isce3/build/install/packages/nisar/workflows/insar.py --no-log {insar_run_config}\n",
    "\n",
    "# export PYTHONPATH=\"/home/jovyan/isce3/build/install/packages:$PYTHONPATH\"\n",
    "# export LD_LIBRARY_PATH=\"/home/jovyan/isce3/build/install/lib64:$LD_LIBRARY_PATH\""
   ]
  },
  {
   "cell_type": "code",
   "execution_count": null,
   "id": "5f2ee47c-34a8-4467-940b-4c4a6914532d",
   "metadata": {},
   "outputs": [],
   "source": [
    "from urllib.parse import urlparse\n",
    "\n",
    "s3_url = 's3://nisar-st-data-ondemand/ADT_Testing/'\n",
    "parsed_url = urlparse(s3_url)\n",
    "bucket = parsed_url.netloc\n",
    "path = parsed_url.path\n",
    "\n",
    "# Upload to s3 bucket\n",
    "if key != '' or secret != '' or token != '' or region != '':\n",
    "    # short term access key\n",
    "    uploader = aws_uploader.AWS(key, secret, token, region)\n",
    "else:\n",
    "    # uses role based access\n",
    "    uploader = aws_uploader.AWS('', '', '', '', configdir=False)\n",
    "uploader.upload_dir(OUTPUT_DIR, bucket, path)"
   ]
  }
 ],
 "metadata": {
  "celltoolbar": "Raw Cell Format",
  "kernelspec": {
   "display_name": "isce3_src",
   "language": "python",
   "name": "isce3_src"
  },
  "language_info": {
   "codemirror_mode": {
    "name": "ipython",
    "version": 3
   },
   "file_extension": ".py",
   "mimetype": "text/x-python",
   "name": "python",
   "nbconvert_exporter": "python",
   "pygments_lexer": "ipython3",
   "version": "3.9.17"
  },
  "toc-autonumbering": false,
  "toc-showtags": false
 },
 "nbformat": 4,
 "nbformat_minor": 5
}
