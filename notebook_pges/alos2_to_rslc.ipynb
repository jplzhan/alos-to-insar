{
 "cells": [
  {
   "cell_type": "markdown",
   "id": "43588eb5-1dfc-4e82-8503-940bbbaffbb6",
   "metadata": {
    "tags": []
   },
   "source": [
    "# ALOS-2 to RSLC\n",
    "- This notebook converts ALOS data to NISAR L0B and then RSLC data by running ISCE3's `alos2_to_nisar_l1.py`.\n",
    "- Uses the `isce3_src` kernel (created using [Create_Environments.ipynb](https://github.com/isce-framework/sds-ondemand/blob/main/environments/Create_Environments.ipynb)).\n",
    "- Can be ran locally (preferably on a GPU instance), or as a PCM job.\n",
    "\n",
    "# Parameters\n",
    "This cell is marked `parameters`, indicating the variables within can substituted when running this notebook via `papermill`.\n",
    "- `data_link`: S3 url to the ALOS-1 data to be converted into NISAR RSLC.\n",
    "- `gpu_enabled`: `1` to run using the GPU, `0` to use CPU instead. **Keep in mind that while disabling the GPU processing allows this notebook to be ran on an instance without a GPU, that does not guarantee the instance this notebook is running on is a non-GPU instance.** To run on a non-GPU instance on PCM, submit the job to a CPU-only queue.\n",
    "\n",
    "### Upload parameters (PCM only)\n",
    "- `timestamp`: A time-string of the format `%Y%m%dT%H%M%S` indicating the time at which the job was submitted. This helps `pcm.py` find where the results of this job will be submitted when this notebook is ran as a PCM job."
   ]
  },
  {
   "cell_type": "code",
   "execution_count": null,
   "id": "d082b6cd-2ee0-4615-b597-9c6d61472b7b",
   "metadata": {
    "tags": [
     "parameters"
    ]
   },
   "outputs": [],
   "source": [
    "data_link = 's3://nisar-st-data-ondemand/alex/ALOS2_zip/0000511819_001001_ALOS2482920840-230503.zip' # string\n",
    "gpu_enabled = 1 # boolean\n",
    "timestamp = '20240131T0123456' # string\n",
    "\n",
    "# hysds specifications\n",
    "_time_limit = 86400\n",
    "_soft_time_limit = 86400\n",
    "_disk_usage = '10GB'\n",
    "_submission_type = 'iteration'\n",
    "_label = 'ALOS-2 to RSLC PGE'"
   ]
  },
  {
   "cell_type": "markdown",
   "id": "ee849d03-e4d4-40c1-8da0-47740f0ff97a",
   "metadata": {},
   "source": [
    "### Pre-processing of the Parameters to convert numbers or words into `boolean` True and False values."
   ]
  },
  {
   "cell_type": "code",
   "execution_count": null,
   "id": "b9ef6453-bb7c-4ab9-8cfb-cd61a46cff92",
   "metadata": {
    "tags": []
   },
   "outputs": [],
   "source": [
    "# Convert boolean parameters because they must be specified as strings\n",
    "try:\n",
    "    if not isinstance(gpu_enabled, bool):\n",
    "        gpu_enabled = int(gpu_enabled) > 0\n",
    "except ValueError:\n",
    "    if instance(gpu_enabled, str):\n",
    "        gpu_enabled = gpu_enabled.lower() == 'true'\n",
    "    else:\n",
    "        gpu_enabled = False\n",
    "print(f'{gpu_enabled=}')\n",
    "\n",
    "# Extraneous parameters\n",
    "insar_config = '' # string"
   ]
  },
  {
   "cell_type": "markdown",
   "id": "118f2976-fae9-481d-b8bf-6d35927f685a",
   "metadata": {},
   "source": [
    "# Functions for loading runconfig files and downloading from S3 buckets"
   ]
  },
  {
   "cell_type": "code",
   "execution_count": null,
   "id": "f4ea3b83-58cb-4baa-beb1-5ae272466ef1",
   "metadata": {
    "tags": []
   },
   "outputs": [],
   "source": [
    "import os\n",
    "import yaml\n",
    "import asf_search as asf\n",
    "import boto3\n",
    "import aws_uploader\n",
    "\n",
    "WORKING_DIR = os.getcwd()\n",
    "HOME_DIR = os.environ['HOME']\n",
    "NOTEBOOK_PGE_DIR = os.environ.get('NOTEBOOK_PGE_DIR', WORKING_DIR)\n",
    "ISCE3_BUILD_DIR = os.environ.get('ISCE3_BUILD_DIR', f'{HOME_DIR}/isce3/build')\n",
    "\n",
    "DOWNLOAD_DIR = os.path.join(WORKING_DIR, 'downloads')\n",
    "EXTRACT_DIR = os.path.join(WORKING_DIR, 'alos_data')\n",
    "OUTPUT_DIR = os.path.join(WORKING_DIR, 'output')\n",
    "PRODUCT_DIR = os.path.join(WORKING_DIR, 'product_path')\n",
    "\n",
    "os.makedirs(DOWNLOAD_DIR, exist_ok=True)\n",
    "os.makedirs(EXTRACT_DIR, exist_ok=True)\n",
    "os.makedirs(OUTPUT_DIR, exist_ok=True)\n",
    "\n",
    "print(WORKING_DIR)"
   ]
  },
  {
   "cell_type": "markdown",
   "id": "d2cc9737-9416-4223-a9c2-a88a5df61e95",
   "metadata": {},
   "source": [
    "# Run ISCE3 Python Scripts\n",
    "This cell runs the python scripts:\n",
    "- `alos2_to_nisar_l1.py`: Converts ALOS-2 data -> NISAR RSLC"
   ]
  },
  {
   "cell_type": "code",
   "execution_count": null,
   "id": "a69116c4-7783-4648-bdbe-ee9a3966b059",
   "metadata": {},
   "outputs": [],
   "source": [
    "from urllib.parse import urlparse\n",
    "import isce3_config\n",
    "\n",
    "# Download the specified ALOS data\n",
    "extract_dir = isce3_config.download_alos2_s3_data(data_link, DOWNLOAD_DIR, EXTRACT_DIR)\n",
    "output_f = os.path.join(PRODUCT_DIR, f'{os.path.basename(extract_dir)}.h5')\n",
    "print(f'ALOS-2 to NISAR L1 Destination: {output_f}')\n",
    "print(f'Executing:\\n    mamba run -n isce3_src python {ISCE3_BUILD_DIR}/share/nisar/examples/alos2_to_nisar_l1.py -i {extract_dir} -o {output_f}')\n",
    "!mamba run -n isce3_src python {ISCE3_BUILD_DIR}/share/nisar/examples/alos2_to_nisar_l1.py -i {extract_dir} -o {output_f}"
   ]
  },
  {
   "cell_type": "markdown",
   "id": "08b26586-8f27-4f4d-9af9-a23dd29625c0",
   "metadata": {},
   "source": [
    "# Automatic Stage Out for PCM Jobs\n",
    "This routine creates a folder which matches the regex:\n",
    "```\n",
    "(?P<id>NISAR_L1_(?P<processing_type>[P|U]R)_RSLC_(?P<cycle_number>\\d{3})_(?P<relative_orbit_number>\\d{3})_(?P<Direction>\\w)_(?P<TrackFrame>\\d{3})_(?P<radar_processing_mode>\\d{4})_(?P<Polarization>\\w{2})_(?P<RadarStartDateTime>(?P<year>\\d{4})(?P<month>\\d{2})(?P<day>\\d{2})T\\d{6})_(?P<RadarStopDateTime>\\d{8}T\\d{6})_(?P<composite_release_id>\\w{6})_(?P<Fidelity>\\w)_(?P<CoverageIndicator>[F|P])_(?P<product_counter>\\d{3}))$\n",
    "```\n",
    "This enables PCM to automatically upload the results of this notebook to the `s3://nisar-{system_name}-rs-ondemand` bucket.\n",
    "\n",
    "`system_name` is one of the following:\n",
    "- `st` (for Science Team)\n",
    "- `adt` (for ADT)\n",
    "- `iot` (for IOT)"
   ]
  },
  {
   "cell_type": "code",
   "execution_count": null,
   "id": "5f2ee47c-34a8-4467-940b-4c4a6914532d",
   "metadata": {
    "tags": []
   },
   "outputs": [],
   "source": [
    "import h5py\n",
    "import json\n",
    "\n",
    "# Grab some appropriate values for PCM to automatically stage out\n",
    "# try:\n",
    "#     h5_file = h5py.File(output_f, 'r')\n",
    "#     polarization = h5_file['science']['LSAR']['RSLC']['swaths']['frequencyA']['listOfPolarizations'][0].decode('utf-8')\n",
    "# except Exception as e:\n",
    "#     print(f'Exception occured: {e}')\n",
    "#     print(f'As the polarization was unable to be automatically detected, the polarization will be listed as \\'HH\\' by default.')\n",
    "polarization = 'HH'\n",
    "regex_name = isce3_config.RSLC_FORMAT.format(\n",
    "    polarization=polarization,\n",
    "    timestamp=timestamp)\n",
    "auto_output_dir = os.path.join(WORKING_DIR, regex_name)\n",
    "\n",
    "# Create the automatic stage-out directory\n",
    "!mkdir -p {auto_output_dir}\n",
    "!cp {WORKING_DIR}/*-output.ipynb {auto_output_dir}\n",
    "!cp {WORKING_DIR}/*.txt {auto_output_dir}\n",
    "!cp {WORKING_DIR}/*.json {auto_output_dir}\n",
    "!mv {output_f} {auto_output_dir}\n",
    "\n",
    "# Move the new path variables to avoid confusion\n",
    "output_f = os.path.join(auto_output_dir, os.path.basename(output_f))\n",
    "\n",
    "# Create metadata files for the automatic stage-out directory\n",
    "with open(os.path.join(auto_output_dir, f'{regex_name}.met.json'), 'w', encoding='utf-8') as f:\n",
    "    content = {\n",
    "        'polarization': polarization,\n",
    "    }\n",
    "    f.write(json.dumps(content))\n",
    "with open(os.path.join(auto_output_dir, f'{regex_name}.dataset.json'), 'w', encoding='utf-8') as f:\n",
    "    content = {\n",
    "         'version': 'v1.0',\n",
    "         'label': 'This is purely an EXAMPLE metadata file, the values in this file are not representative of this product.',\n",
    "         'location': {\n",
    "           'type': 'polygon',\n",
    "           'coordinates': [\n",
    "             [\n",
    "                [-122.9059682940358,40.47090915967475],\n",
    "                [-121.6679748715316,37.84406528996276],\n",
    "                [-120.7310161872557,38.28728069813177],\n",
    "                [-121.7043611684245,39.94137004454238],\n",
    "                [-121.9536916840953,40.67097860759095],\n",
    "                [-122.3100379696548,40.7267890636145],\n",
    "                [-122.7640648263371,40.5457010812299],\n",
    "                [-122.9059682940358,40.47090915967475]\n",
    "              ]\n",
    "            ]\n",
    "        },\n",
    "        'starttime': '2017-01-01T00:00:00',\n",
    "        'endtime': '2017-01-01T00:05:00',\n",
    "    }\n",
    "    f.write(json.dumps(content))"
   ]
  }
 ],
 "metadata": {
  "celltoolbar": "Raw Cell Format",
  "kernelspec": {
   "display_name": "isce3_src",
   "language": "python",
   "name": "isce3_src"
  },
  "language_info": {
   "codemirror_mode": {
    "name": "ipython",
    "version": 3
   },
   "file_extension": ".py",
   "mimetype": "text/x-python",
   "name": "python",
   "nbconvert_exporter": "python",
   "pygments_lexer": "ipython3",
   "version": "3.11.3"
  },
  "toc-autonumbering": false,
  "toc-showtags": false
 },
 "nbformat": 4,
 "nbformat_minor": 5
}
